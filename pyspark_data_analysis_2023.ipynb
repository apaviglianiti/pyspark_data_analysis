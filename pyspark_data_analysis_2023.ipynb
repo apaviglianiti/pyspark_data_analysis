{
 "cells": [
  {
   "cell_type": "markdown",
   "id": "457c6f8a",
   "metadata": {},
   "source": [
    "<a id='tablecontents'></a>"
   ]
  },
  {
   "cell_type": "markdown",
   "id": "3687914c-f256-4967-a891-4cdea35726fc",
   "metadata": {},
   "source": [
    "# PySpark for Data Analysis on Jupyter Notebook - Foundations\n",
    "<h5>2023, Andrea Paviglianiti</h5>\n",
    "\n",
    "<hr>\n",
    "\n",
    "## Table of Contents:\n",
    "\n",
    "- [Dependencies](#section1)\n",
    "- [Load Dataset](#section2)\n",
    "- [Use PySpark in a function](#section3)\n",
    "- [Data Cleansing with PySpark](#section4)\n",
    "- [Data Analysis with PySpark](#section5)\n",
    "- [Summary of functions used](#summary)\n",
    "- [Next Steps](#section6)\n",
    "\n",
    "<br>\n",
    "<hr>"
   ]
  },
  {
   "cell_type": "markdown",
   "id": "5812240f",
   "metadata": {},
   "source": [
    "<a id='section1'></a>"
   ]
  },
  {
   "cell_type": "markdown",
   "id": "d2e0533d-9b6c-4f30-a91a-3179d242efcd",
   "metadata": {
    "tags": []
   },
   "source": [
    "## Dependencies"
   ]
  },
  {
   "cell_type": "code",
   "execution_count": 1,
   "id": "5e81beb2-a4f5-4dad-8edb-96ea05658ccc",
   "metadata": {},
   "outputs": [],
   "source": [
    "import pandas as pd\n",
    "import numpy as np\n",
    "import os"
   ]
  },
  {
   "cell_type": "markdown",
   "id": "e2031bdd-f1d2-4941-b9e5-9baf7dd19789",
   "metadata": {
    "tags": []
   },
   "source": [
    "### Apache Spark: PySpark Dependencies"
   ]
  },
  {
   "cell_type": "code",
   "execution_count": 2,
   "id": "20ed576e-3afc-4ddd-98a7-9124506d897e",
   "metadata": {},
   "outputs": [
    {
     "data": {
      "text/plain": [
       "'/Users/apavigli/opt/anaconda3/lib/python3.9/site-packages/pyspark'"
      ]
     },
     "execution_count": 2,
     "metadata": {},
     "output_type": "execute_result"
    }
   ],
   "source": [
    "import findspark\n",
    "findspark.init()\n",
    "findspark.find()"
   ]
  },
  {
   "cell_type": "code",
   "execution_count": 3,
   "id": "d19a5393-9e39-485d-b759-de46752b7c30",
   "metadata": {},
   "outputs": [
    {
     "name": "stderr",
     "output_type": "stream",
     "text": [
      "WARNING: An illegal reflective access operation has occurred\n",
      "WARNING: Illegal reflective access by org.apache.spark.unsafe.Platform (file:/Users/apavigli/opt/anaconda3/lib/python3.9/site-packages/pyspark/jars/spark-unsafe_2.12-3.2.1.jar) to constructor java.nio.DirectByteBuffer(long,int)\n",
      "WARNING: Please consider reporting this to the maintainers of org.apache.spark.unsafe.Platform\n",
      "WARNING: Use --illegal-access=warn to enable warnings of further illegal reflective access operations\n",
      "WARNING: All illegal access operations will be denied in a future release\n",
      "Using Spark's default log4j profile: org/apache/spark/log4j-defaults.properties\n",
      "Setting default log level to \"WARN\".\n",
      "To adjust logging level use sc.setLogLevel(newLevel). For SparkR, use setLogLevel(newLevel).\n",
      "23/06/21 15:41:49 WARN NativeCodeLoader: Unable to load native-hadoop library for your platform... using builtin-java classes where applicable\n",
      "23/06/21 15:41:50 WARN Utils: Service 'SparkUI' could not bind on port 4040. Attempting port 4041.\n",
      "23/06/21 15:41:50 WARN Utils: Service 'SparkUI' could not bind on port 4041. Attempting port 4042.\n"
     ]
    },
    {
     "data": {
      "text/html": [
       "\n",
       "            <div>\n",
       "                <p><b>SparkSession - in-memory</b></p>\n",
       "                \n",
       "        <div>\n",
       "            <p><b>SparkContext</b></p>\n",
       "\n",
       "            <p><a href=\"http://192.168.0.80:4042\">Spark UI</a></p>\n",
       "\n",
       "            <dl>\n",
       "              <dt>Version</dt>\n",
       "                <dd><code>v3.2.1</code></dd>\n",
       "              <dt>Master</dt>\n",
       "                <dd><code>local[*]</code></dd>\n",
       "              <dt>AppName</dt>\n",
       "                <dd><code>pyspark-shell</code></dd>\n",
       "            </dl>\n",
       "        </div>\n",
       "        \n",
       "            </div>\n",
       "        "
      ],
      "text/plain": [
       "<pyspark.sql.session.SparkSession at 0x7ff63be87eb0>"
      ]
     },
     "execution_count": 3,
     "metadata": {},
     "output_type": "execute_result"
    }
   ],
   "source": [
    "#os.environ[\"JAVA_HOME\"] = \"/usr/lib/jvm/java-8-openjdk-amd64\"\n",
    "#os.environ[\"SPARK_HOME\"] = \"/content/spark-3.1.1-bin-hadoop3.2\"\n",
    "\n",
    "# Import PySpark\n",
    "from pyspark.sql import SparkSession\n",
    "\n",
    "#Create SparkSession\n",
    "#spark = SparkSession.builder.appName('SparkByExamples.com').getOrCreate()\n",
    "spark = SparkSession.builder.master(\"local[*]\").getOrCreate()\n",
    "\n",
    "#Create a Spark Session\n",
    "from pyspark.sql import SparkSession\n",
    "spark = SparkSession.builder.master(\"local[*]\").getOrCreate()\n",
    "\n",
    "#Import all functions from pyspark to explore and manipulate data\n",
    "from pyspark.sql.functions import *\n",
    "\n",
    "#Show Spark Session\n",
    "spark"
   ]
  },
  {
   "cell_type": "code",
   "execution_count": 4,
   "id": "b14b16b0-b3d0-435e-9c35-4812e14b6234",
   "metadata": {},
   "outputs": [
    {
     "name": "stderr",
     "output_type": "stream",
     "text": [
      "[Stage 0:>                                                          (0 + 1) / 1]\r"
     ]
    },
    {
     "name": "stdout",
     "output_type": "stream",
     "text": [
      "+--------+-----------+\n",
      "|language|users_count|\n",
      "+--------+-----------+\n",
      "|    Java|      20000|\n",
      "|  Python|     100000|\n",
      "|   Scala|       3000|\n",
      "+--------+-----------+\n",
      "\n"
     ]
    },
    {
     "name": "stderr",
     "output_type": "stream",
     "text": [
      "                                                                                \r"
     ]
    }
   ],
   "source": [
    "data = [(\"Java\", \"20000\"), (\"Python\", \"100000\"), (\"Scala\", \"3000\")]\n",
    "columns = [\"language\",\"users_count\"]\n",
    "\n",
    "#Create a DataFrame using PySpark\n",
    "df0 = spark.createDataFrame(data).toDF(*columns)\n",
    "\n",
    "#SHOW the dataframe\n",
    "df0.show()"
   ]
  },
  {
   "cell_type": "markdown",
   "id": "382dcc42",
   "metadata": {},
   "source": [
    "<br>\n",
    "\n",
    "[Back to Table of Contents](#tablecontents)"
   ]
  },
  {
   "cell_type": "markdown",
   "id": "6ee57ba1",
   "metadata": {},
   "source": [
    "<a id='section2'></a>"
   ]
  },
  {
   "cell_type": "markdown",
   "id": "e26dcfe6-ddc5-453a-86a4-c44b9bb594f6",
   "metadata": {
    "tags": []
   },
   "source": [
    "## Load Dataset"
   ]
  },
  {
   "cell_type": "code",
   "execution_count": 5,
   "id": "650ea372-4a78-4944-8686-56ecfb8a1c93",
   "metadata": {
    "tags": []
   },
   "outputs": [],
   "source": [
    "directory = r'input/original.csv'\n",
    "\n",
    "#Read csv file using PySpark\n",
    "df = spark.read.format(\"csv\").option(\"header\", \"true\").load(directory)"
   ]
  },
  {
   "cell_type": "markdown",
   "id": "c9fd9a27-21b5-40c8-b2ce-5933b64cb626",
   "metadata": {},
   "source": [
    "#### Method Breakdown:\n",
    "\n",
    "- `spark.read` = calls for reading a file\n",
    "- `.format(\"csv\")` = specifies the file type\n",
    "- `.option(\"header\", \"true\")` = specifies that first row in the file will be the header\n",
    "- `.load(my_file)` = calls for the file (or can include the whole directory)\n",
    "\n",
    "`spark.read.format(\"csv\").option(\"header\", \"true\").load(directory)`"
   ]
  },
  {
   "cell_type": "code",
   "execution_count": 6,
   "id": "c01c47e2-1f4e-4e02-a784-82b56334513d",
   "metadata": {},
   "outputs": [
    {
     "name": "stdout",
     "output_type": "stream",
     "text": [
      "+---+----------+----------+------+-------------+--------------------+---------+----------+-----------+\n",
      "| id|first_name| last_name|gender|         City|            JobTitle|   Salary|  Latitude|  Longitude|\n",
      "+---+----------+----------+------+-------------+--------------------+---------+----------+-----------+\n",
      "|  1|   Melinde| Shilburne|Female|    Nowa Ruda| Assistant Professor|$57438.18|50.5774075| 16.4967184|\n",
      "|  2|  Kimberly|Von Welden|Female|       Bulgan|       Programmer II|$62846.60|48.8231572|103.5218199|\n",
      "|  3|    Alvera|  Di Boldi|Female|         null|                null|$57576.52|39.9947462|116.3397725|\n",
      "|  4|   Shannon| O'Griffin|  Male|Divnomorskoye|Budget/Accounting...|$61489.23|44.5047212| 38.1300171|\n",
      "|  5|  Sherwood|   Macieja|  Male|    Mytishchi|            VP Sales|$63863.09|      null| 37.6489954|\n",
      "+---+----------+----------+------+-------------+--------------------+---------+----------+-----------+\n",
      "only showing top 5 rows\n",
      "\n"
     ]
    }
   ],
   "source": [
    "#Show only first 5 rows\n",
    "df.show(5)"
   ]
  },
  {
   "cell_type": "markdown",
   "id": "7f652c89",
   "metadata": {},
   "source": [
    "<br>\n",
    "\n",
    "[Back to Table of Contents](#tablecontents)"
   ]
  },
  {
   "cell_type": "markdown",
   "id": "0d14f4e0",
   "metadata": {},
   "source": [
    "<a id='section3'></a>"
   ]
  },
  {
   "cell_type": "markdown",
   "id": "7b0ca13e-3c47-438c-b04b-964c0b04fd5c",
   "metadata": {
    "tags": []
   },
   "source": [
    "## Use PySpark in a function"
   ]
  },
  {
   "cell_type": "code",
   "execution_count": 7,
   "id": "80243292-85d7-45a7-afd4-5225110a5be3",
   "metadata": {},
   "outputs": [],
   "source": [
    "#Create a function that loads a csv as spark dataframe w/o need of recoding this\n",
    "def spark_df(file_dir):\n",
    "    df = spark.read.format(\"csv\").option(\"header\",\"true\").load(file_dir)\n",
    "    return df\n",
    "\n",
    "#What if the header is not specified?\n",
    "def spark_df_wrong(file_dir):\n",
    "    df = spark.read.format(\"csv\").load(file_dir)\n",
    "    return df"
   ]
  },
  {
   "cell_type": "code",
   "execution_count": 8,
   "id": "c9348dc0-ea60-4039-a0f2-f4b8367b1230",
   "metadata": {},
   "outputs": [
    {
     "name": "stdout",
     "output_type": "stream",
     "text": [
      "+---+----------+----------+------+-------------+--------------------+---------+----------+-----------+\n",
      "| id|first_name| last_name|gender|         City|            JobTitle|   Salary|  Latitude|  Longitude|\n",
      "+---+----------+----------+------+-------------+--------------------+---------+----------+-----------+\n",
      "|  1|   Melinde| Shilburne|Female|    Nowa Ruda| Assistant Professor|$57438.18|50.5774075| 16.4967184|\n",
      "|  2|  Kimberly|Von Welden|Female|       Bulgan|       Programmer II|$62846.60|48.8231572|103.5218199|\n",
      "|  3|    Alvera|  Di Boldi|Female|         null|                null|$57576.52|39.9947462|116.3397725|\n",
      "|  4|   Shannon| O'Griffin|  Male|Divnomorskoye|Budget/Accounting...|$61489.23|44.5047212| 38.1300171|\n",
      "|  5|  Sherwood|   Macieja|  Male|    Mytishchi|            VP Sales|$63863.09|      null| 37.6489954|\n",
      "+---+----------+----------+------+-------------+--------------------+---------+----------+-----------+\n",
      "only showing top 5 rows\n",
      "\n"
     ]
    }
   ],
   "source": [
    "fd = spark_df(directory)\n",
    "fd.show(5)"
   ]
  },
  {
   "cell_type": "code",
   "execution_count": 9,
   "id": "d141b532-fc89-4516-8dfb-11ccaba2406f",
   "metadata": {},
   "outputs": [
    {
     "name": "stdout",
     "output_type": "stream",
     "text": [
      "+---+----------+----------+------+-------------+--------------------+---------+----------+-----------+\n",
      "|_c0|       _c1|       _c2|   _c3|          _c4|                 _c5|      _c6|       _c7|        _c8|\n",
      "+---+----------+----------+------+-------------+--------------------+---------+----------+-----------+\n",
      "| id|first_name| last_name|gender|         City|            JobTitle|   Salary|  Latitude|  Longitude|\n",
      "|  1|   Melinde| Shilburne|Female|    Nowa Ruda| Assistant Professor|$57438.18|50.5774075| 16.4967184|\n",
      "|  2|  Kimberly|Von Welden|Female|       Bulgan|       Programmer II|$62846.60|48.8231572|103.5218199|\n",
      "|  3|    Alvera|  Di Boldi|Female|         null|                null|$57576.52|39.9947462|116.3397725|\n",
      "|  4|   Shannon| O'Griffin|  Male|Divnomorskoye|Budget/Accounting...|$61489.23|44.5047212| 38.1300171|\n",
      "+---+----------+----------+------+-------------+--------------------+---------+----------+-----------+\n",
      "only showing top 5 rows\n",
      "\n"
     ]
    }
   ],
   "source": [
    "fd1 = spark_df_wrong(directory)\n",
    "fd1.show(5)"
   ]
  },
  {
   "cell_type": "markdown",
   "id": "fd5ab14b-5acf-4589-ac58-deae074b8cd4",
   "metadata": {},
   "source": [
    "<b>When headers aren't specified in the options, two things occur:</b>\n",
    "1. The header is treated as first row;\n",
    "2. The header is generated automatically and columns have names assigned like `_c0`, `_c1`, ..., `_c_N`"
   ]
  },
  {
   "cell_type": "markdown",
   "id": "2c232006",
   "metadata": {},
   "source": [
    "<br>\n",
    "\n",
    "[Back to Table of Contents](#tablecontents)"
   ]
  },
  {
   "cell_type": "markdown",
   "id": "39c8eb6f",
   "metadata": {},
   "source": [
    "<a id='section4'></a>"
   ]
  },
  {
   "cell_type": "markdown",
   "id": "63794182-b67a-4e9c-93f9-c6478207e091",
   "metadata": {
    "tags": []
   },
   "source": [
    "## Data Cleansing with PySpark"
   ]
  },
  {
   "cell_type": "markdown",
   "id": "cc799997-0642-490a-bba5-e9f9f61aeb3e",
   "metadata": {},
   "source": [
    "The greatest difference between `pandas` and `pyspark` in data manipulation is that <b>pyspark dataframes are immutable.</b>\n",
    "\n",
    "This means that every time we execute an operation a <u>new dataframe must be created as a result.</u>"
   ]
  },
  {
   "cell_type": "code",
   "execution_count": 10,
   "id": "075b8d0d-52fd-4da2-b97f-4c1b3ca1863d",
   "metadata": {},
   "outputs": [
    {
     "name": "stdout",
     "output_type": "stream",
     "text": [
      "+---+----------+----------+------+---------------+--------------------+---------+----------+-----------+\n",
      "| id|first_name| last_name|gender|           City|            JobTitle|   Salary|  Latitude|  Longitude|\n",
      "+---+----------+----------+------+---------------+--------------------+---------+----------+-----------+\n",
      "|  1|   Melinde| Shilburne|Female|      Nowa Ruda| Assistant Professor|$57438.18|50.5774075| 16.4967184|\n",
      "|  2|  Kimberly|Von Welden|Female|         Bulgan|       Programmer II|$62846.60|48.8231572|103.5218199|\n",
      "|  3|    Alvera|  Di Boldi|Female|           null|                null|$57576.52|39.9947462|116.3397725|\n",
      "|  4|   Shannon| O'Griffin|  Male|  Divnomorskoye|Budget/Accounting...|$61489.23|44.5047212| 38.1300171|\n",
      "|  5|  Sherwood|   Macieja|  Male|      Mytishchi|            VP Sales|$63863.09|      null| 37.6489954|\n",
      "|  6|     Maris|      Folk|Female|Kinsealy-Drinan|      Civil Engineer|$30101.16|53.4266145| -6.1644997|\n",
      "|  7|     Masha|    Divers|Female|         Dachun|                null|$25090.87| 24.879416| 118.930111|\n",
      "|  8|   Goddart|     Flear|  Male|      Trélissac|Desktop Support T...|$46116.36|45.1905186|  0.7423124|\n",
      "|  9|      Roth|O'Cannavan|  Male|         Heitan|VP Product Manage...|$73697.10| 32.027934| 106.657113|\n",
      "| 10|      Bran|   Trahear|  Male|       Arbeláez|Mechanical System...|$68098.42|  4.272793| -74.416014|\n",
      "| 11|    Kylynn|   Lockart|Female|       El Cardo|Nuclear Power Eng...|$13604.63|     -5.85|-79.8833329|\n",
      "| 12|       Rey|    Meharg|Female|    Wangqingtuo|Systems Administr...|$73423.70| 39.172378| 116.931607|\n",
      "| 13|      Kerr|    Braden|  Male|      Sułkowice|Compensation Analyst|$33432.99|49.8151822| 19.3771749|\n",
      "| 14|    Mickie| Whanstall|  Male|    Springfield|Assistant Media P...|$50838.53|42.1014803|-72.5766759|\n",
      "| 15|    Kaspar|     Pally|  Male|         Chrást|  Analyst Programmer|$40163.03|49.7923299| 13.4915324|\n",
      "| 16|    Norbie|    Gwyllt|  Male|         Xijiao|              Editor|$32492.73|43.4945737|  5.8978018|\n",
      "| 17|    Claude|    Briant|Female|      Mieścisko|Research Assistan...|$51862.48|52.7441662| 17.3278637|\n",
      "| 18|     Thain|    Habbon|  Male| Foros do Trapo|     Design Engineer|$42135.67| 38.696249| -8.7098337|\n",
      "| 19|  Tiffanie|  Pattison|Female|    Jabungsisir|Senior Financial ...|$91925.08|-7.7232567|113.4686802|\n",
      "| 20|    Ettore|  Gerriets|  Male|          Pedra| Staff Accountant IV|$73921.33|40.7172049| -8.3625148|\n",
      "+---+----------+----------+------+---------------+--------------------+---------+----------+-----------+\n",
      "only showing top 20 rows\n",
      "\n"
     ]
    }
   ],
   "source": [
    "df.show()"
   ]
  },
  {
   "cell_type": "markdown",
   "id": "6e95496a-6273-4900-84a7-be9ea0d4c8f1",
   "metadata": {
    "tags": []
   },
   "source": [
    "### Substitute Null Values"
   ]
  },
  {
   "cell_type": "code",
   "execution_count": 11,
   "id": "c8714345-ecc5-40f9-9a11-e4b8f1a6de25",
   "metadata": {},
   "outputs": [
    {
     "name": "stdout",
     "output_type": "stream",
     "text": [
      "+---+----------+----------+------+---------------+--------------------+---------+----------+-----------+---------------+\n",
      "| id|first_name| last_name|gender|           City|            JobTitle|   Salary|  Latitude|  Longitude|     clean_city|\n",
      "+---+----------+----------+------+---------------+--------------------+---------+----------+-----------+---------------+\n",
      "|  1|   Melinde| Shilburne|Female|      Nowa Ruda| Assistant Professor|$57438.18|50.5774075| 16.4967184|      Nowa Ruda|\n",
      "|  2|  Kimberly|Von Welden|Female|         Bulgan|       Programmer II|$62846.60|48.8231572|103.5218199|         Bulgan|\n",
      "|  3|    Alvera|  Di Boldi|Female|           null|                null|$57576.52|39.9947462|116.3397725|        Unknown|\n",
      "|  4|   Shannon| O'Griffin|  Male|  Divnomorskoye|Budget/Accounting...|$61489.23|44.5047212| 38.1300171|  Divnomorskoye|\n",
      "|  5|  Sherwood|   Macieja|  Male|      Mytishchi|            VP Sales|$63863.09|      null| 37.6489954|      Mytishchi|\n",
      "|  6|     Maris|      Folk|Female|Kinsealy-Drinan|      Civil Engineer|$30101.16|53.4266145| -6.1644997|Kinsealy-Drinan|\n",
      "|  7|     Masha|    Divers|Female|         Dachun|                null|$25090.87| 24.879416| 118.930111|         Dachun|\n",
      "|  8|   Goddart|     Flear|  Male|      Trélissac|Desktop Support T...|$46116.36|45.1905186|  0.7423124|      Trélissac|\n",
      "|  9|      Roth|O'Cannavan|  Male|         Heitan|VP Product Manage...|$73697.10| 32.027934| 106.657113|         Heitan|\n",
      "| 10|      Bran|   Trahear|  Male|       Arbeláez|Mechanical System...|$68098.42|  4.272793| -74.416014|       Arbeláez|\n",
      "| 11|    Kylynn|   Lockart|Female|       El Cardo|Nuclear Power Eng...|$13604.63|     -5.85|-79.8833329|       El Cardo|\n",
      "| 12|       Rey|    Meharg|Female|    Wangqingtuo|Systems Administr...|$73423.70| 39.172378| 116.931607|    Wangqingtuo|\n",
      "| 13|      Kerr|    Braden|  Male|      Sułkowice|Compensation Analyst|$33432.99|49.8151822| 19.3771749|      Sułkowice|\n",
      "| 14|    Mickie| Whanstall|  Male|    Springfield|Assistant Media P...|$50838.53|42.1014803|-72.5766759|    Springfield|\n",
      "| 15|    Kaspar|     Pally|  Male|         Chrást|  Analyst Programmer|$40163.03|49.7923299| 13.4915324|         Chrást|\n",
      "| 16|    Norbie|    Gwyllt|  Male|         Xijiao|              Editor|$32492.73|43.4945737|  5.8978018|         Xijiao|\n",
      "| 17|    Claude|    Briant|Female|      Mieścisko|Research Assistan...|$51862.48|52.7441662| 17.3278637|      Mieścisko|\n",
      "| 18|     Thain|    Habbon|  Male| Foros do Trapo|     Design Engineer|$42135.67| 38.696249| -8.7098337| Foros do Trapo|\n",
      "| 19|  Tiffanie|  Pattison|Female|    Jabungsisir|Senior Financial ...|$91925.08|-7.7232567|113.4686802|    Jabungsisir|\n",
      "| 20|    Ettore|  Gerriets|  Male|          Pedra| Staff Accountant IV|$73921.33|40.7172049| -8.3625148|          Pedra|\n",
      "+---+----------+----------+------+---------------+--------------------+---------+----------+-----------+---------------+\n",
      "only showing top 20 rows\n",
      "\n"
     ]
    }
   ],
   "source": [
    "#Deal with Null values in City Column\n",
    "df2 = df.withColumn(\"clean_city\", when(df.City.isNull(), \"Unknown\").otherwise(df.City))\n",
    "df2.show()"
   ]
  },
  {
   "cell_type": "markdown",
   "id": "6cb9aaa9-e0ad-499a-8b3c-aab6a034c361",
   "metadata": {},
   "source": [
    "#### Breaking down the method\n",
    "\n",
    "1. `df.withColumn(\"new_column\", when(...)).otherwise(...))` : it functions like IF/ELSE condition. The new column has new values if condition is met, otherwise values will be identical to original column\n",
    "\n",
    "2. Method: `when(df.City.isNull(), \"Unknown\")` : specifies that WHEN the condition is met, the value of that cell in the column witll be \"Unknown\"\n",
    "\n",
    "3. Method: `otherwise(df.City)` : specifies that WHEN the condition is not met, values in the cell will not change."
   ]
  },
  {
   "cell_type": "raw",
   "id": "2815d987-bf2c-45f2-adf7-999da6f97df4",
   "metadata": {},
   "source": [
    "df2 = df.withColumn(\n",
    "    \"clean_city\", when(                        #Opens Condition to be met for the new column\n",
    "        df.City.isNull(), \"Unknown\")           #Specifies IF df.City.isNull() THEN value = \"Unknown\"\n",
    "    .otherwise(df.City)                        #Specifies ELSE condition, closes `when` method\n",
    ")                                              #Closes `withColumn` method\n",
    "df2.show()"
   ]
  },
  {
   "cell_type": "markdown",
   "id": "75eb9545-65ff-4aed-81f2-50efd06dd0f7",
   "metadata": {
    "tags": []
   },
   "source": [
    "### Delete data entries"
   ]
  },
  {
   "cell_type": "code",
   "execution_count": 12,
   "id": "5880dc4c-ac43-4999-baa1-7208031f3b5f",
   "metadata": {},
   "outputs": [
    {
     "name": "stdout",
     "output_type": "stream",
     "text": [
      "+---+----------+----------+------+---------------+--------------------+---------+----------+-----------+---------------+\n",
      "| id|first_name| last_name|gender|           City|            JobTitle|   Salary|  Latitude|  Longitude|     clean_city|\n",
      "+---+----------+----------+------+---------------+--------------------+---------+----------+-----------+---------------+\n",
      "|  1|   Melinde| Shilburne|Female|      Nowa Ruda| Assistant Professor|$57438.18|50.5774075| 16.4967184|      Nowa Ruda|\n",
      "|  2|  Kimberly|Von Welden|Female|         Bulgan|       Programmer II|$62846.60|48.8231572|103.5218199|         Bulgan|\n",
      "|  4|   Shannon| O'Griffin|  Male|  Divnomorskoye|Budget/Accounting...|$61489.23|44.5047212| 38.1300171|  Divnomorskoye|\n",
      "|  5|  Sherwood|   Macieja|  Male|      Mytishchi|            VP Sales|$63863.09|      null| 37.6489954|      Mytishchi|\n",
      "|  6|     Maris|      Folk|Female|Kinsealy-Drinan|      Civil Engineer|$30101.16|53.4266145| -6.1644997|Kinsealy-Drinan|\n",
      "|  8|   Goddart|     Flear|  Male|      Trélissac|Desktop Support T...|$46116.36|45.1905186|  0.7423124|      Trélissac|\n",
      "|  9|      Roth|O'Cannavan|  Male|         Heitan|VP Product Manage...|$73697.10| 32.027934| 106.657113|         Heitan|\n",
      "| 10|      Bran|   Trahear|  Male|       Arbeláez|Mechanical System...|$68098.42|  4.272793| -74.416014|       Arbeláez|\n",
      "| 11|    Kylynn|   Lockart|Female|       El Cardo|Nuclear Power Eng...|$13604.63|     -5.85|-79.8833329|       El Cardo|\n",
      "| 12|       Rey|    Meharg|Female|    Wangqingtuo|Systems Administr...|$73423.70| 39.172378| 116.931607|    Wangqingtuo|\n",
      "| 13|      Kerr|    Braden|  Male|      Sułkowice|Compensation Analyst|$33432.99|49.8151822| 19.3771749|      Sułkowice|\n",
      "| 14|    Mickie| Whanstall|  Male|    Springfield|Assistant Media P...|$50838.53|42.1014803|-72.5766759|    Springfield|\n",
      "| 15|    Kaspar|     Pally|  Male|         Chrást|  Analyst Programmer|$40163.03|49.7923299| 13.4915324|         Chrást|\n",
      "| 16|    Norbie|    Gwyllt|  Male|         Xijiao|              Editor|$32492.73|43.4945737|  5.8978018|         Xijiao|\n",
      "| 17|    Claude|    Briant|Female|      Mieścisko|Research Assistan...|$51862.48|52.7441662| 17.3278637|      Mieścisko|\n",
      "| 18|     Thain|    Habbon|  Male| Foros do Trapo|     Design Engineer|$42135.67| 38.696249| -8.7098337| Foros do Trapo|\n",
      "| 19|  Tiffanie|  Pattison|Female|    Jabungsisir|Senior Financial ...|$91925.08|-7.7232567|113.4686802|    Jabungsisir|\n",
      "| 20|    Ettore|  Gerriets|  Male|          Pedra| Staff Accountant IV|$73921.33|40.7172049| -8.3625148|          Pedra|\n",
      "| 21|      Alon|  Chasteau|  Male|          Xin’e|     Web Developer I|$62755.85|  49.16291|  127.98658|          Xin’e|\n",
      "| 22|   Guthrey|    Johnke|  Male|         Xijiao|         Developer I|$13708.03|40.7576842| 23.1342184|         Xijiao|\n",
      "+---+----------+----------+------+---------------+--------------------+---------+----------+-----------+---------------+\n",
      "only showing top 20 rows\n",
      "\n"
     ]
    }
   ],
   "source": [
    "#Overwrite df2 by filtering out Null values for `JobTitle` column\n",
    "df2 = df2.filter(df2.JobTitle.isNotNull())\n",
    "df2.show()"
   ]
  },
  {
   "cell_type": "markdown",
   "id": "b87fb3f4-a51c-4b22-a834-ce409beed12c",
   "metadata": {},
   "source": [
    "You will notice that rows <b>3</b>, <b>7</b> were filtered out.\n",
    "\n",
    "#### Breaking down the method:\n",
    "\n",
    "1. `df2.filter()` : it decides what to <u>keep</u>\n",
    "2. `df2.JobTitle.isNotNull()` : NotNull values gets to stay, and Null values will be filtered out."
   ]
  },
  {
   "cell_type": "raw",
   "id": "ad2f6881-c6c2-449b-bad4-75aee9245b21",
   "metadata": {},
   "source": [
    "df2 = df2.filter(\n",
    "    df2.JobTitle.isNotNull()\n",
    ")"
   ]
  },
  {
   "cell_type": "markdown",
   "id": "776b218a-4eb6-46fb-b22a-b33beed4404d",
   "metadata": {
    "tags": []
   },
   "source": [
    "### Replace Values"
   ]
  },
  {
   "cell_type": "markdown",
   "id": "b91f3841-8aa1-4009-beed-1de6d9c57b68",
   "metadata": {},
   "source": [
    "The column `salary` is currently a <b>string</b> type because it contains other symbols than numbers."
   ]
  },
  {
   "cell_type": "code",
   "execution_count": 13,
   "id": "716536af-264c-4fae-a452-a134b37cb5a0",
   "metadata": {},
   "outputs": [
    {
     "name": "stdout",
     "output_type": "stream",
     "text": [
      "+---+----------+----------+------+---------------+--------------------+---------+----------+-----------+---------------+------------+\n",
      "| id|first_name| last_name|gender|           City|            JobTitle|   Salary|  Latitude|  Longitude|     clean_city|clean_salary|\n",
      "+---+----------+----------+------+---------------+--------------------+---------+----------+-----------+---------------+------------+\n",
      "|  1|   Melinde| Shilburne|Female|      Nowa Ruda| Assistant Professor|$57438.18|50.5774075| 16.4967184|      Nowa Ruda|    57438.18|\n",
      "|  2|  Kimberly|Von Welden|Female|         Bulgan|       Programmer II|$62846.60|48.8231572|103.5218199|         Bulgan|     62846.6|\n",
      "|  4|   Shannon| O'Griffin|  Male|  Divnomorskoye|Budget/Accounting...|$61489.23|44.5047212| 38.1300171|  Divnomorskoye|    61489.23|\n",
      "|  5|  Sherwood|   Macieja|  Male|      Mytishchi|            VP Sales|$63863.09|      null| 37.6489954|      Mytishchi|    63863.09|\n",
      "|  6|     Maris|      Folk|Female|Kinsealy-Drinan|      Civil Engineer|$30101.16|53.4266145| -6.1644997|Kinsealy-Drinan|    30101.16|\n",
      "+---+----------+----------+------+---------------+--------------------+---------+----------+-----------+---------------+------------+\n",
      "only showing top 5 rows\n",
      "\n"
     ]
    }
   ],
   "source": [
    "#Overwrite df2 and replace values\n",
    "df2 = df2.withColumn(\"clean_salary\", df2.Salary.substr(2,100).cast('float'))\n",
    "df2.show(5)"
   ]
  },
  {
   "cell_type": "markdown",
   "id": "128bfa52-6ca3-42a4-9476-40a0004b3569",
   "metadata": {},
   "source": [
    "#### Breaking down the method:\n",
    "\n",
    "1. `df2.withColumn(\"clean_salary\"), df2.Salary` : it says that the new column refers to an existing one\n",
    "2. `df2.Salary.substr(2,100)` : it means that we skip the character 1 and we include all other characters until 100\n",
    "3. `.cast('float')` the new column is converted to float"
   ]
  },
  {
   "cell_type": "raw",
   "id": "187524e2-834f-4fad-8951-e812da875159",
   "metadata": {},
   "source": [
    "df2 = df2.withColumn(                                # Initiate creation of a new column (overwriting df2)\n",
    "    \"clean_salary\",                                  # Specify the name of the new column\n",
    "    df2.Salary.substr(2,100).cast('float')           # Specify the condition, in this case new column is a substring casted as a float\n",
    ")"
   ]
  },
  {
   "cell_type": "markdown",
   "id": "5143c84c-94d6-4631-b5c5-915073c0b523",
   "metadata": {
    "tags": []
   },
   "source": [
    "### Calculate Values"
   ]
  },
  {
   "cell_type": "code",
   "execution_count": 14,
   "id": "67cd76c1-9ef2-4f05-8dbb-db3c6fda2dc9",
   "metadata": {
    "tags": []
   },
   "outputs": [
    {
     "name": "stdout",
     "output_type": "stream",
     "text": [
      "+-----------------+\n",
      "|avg(clean_salary)|\n",
      "+-----------------+\n",
      "|55516.32088199837|\n",
      "+-----------------+\n",
      "\n",
      "+-----------------+\n",
      "|max(clean_salary)|\n",
      "+-----------------+\n",
      "|         99948.28|\n",
      "+-----------------+\n",
      "\n",
      "+-----------------+\n",
      "|min(clean_salary)|\n",
      "+-----------------+\n",
      "|         10101.92|\n",
      "+-----------------+\n",
      "\n"
     ]
    }
   ],
   "source": [
    "salary_mean = df2.groupBy().avg('clean_salary')\n",
    "salary_max = df2.groupBy().max('clean_salary')\n",
    "salary_min = df2.groupBy().min('clean_salary')\n",
    "\n",
    "for calculation in [salary_mean, salary_max, salary_min]:\n",
    "    calculation.show()"
   ]
  },
  {
   "cell_type": "markdown",
   "id": "17f633a2-3b7d-47a9-9aef-57ae504ab9ff",
   "metadata": {},
   "source": [
    "Values are calculated as a dataframe, but can be extracted."
   ]
  },
  {
   "cell_type": "code",
   "execution_count": 15,
   "id": "36e790b6-2c2d-49d8-8d8d-0b973db062e4",
   "metadata": {},
   "outputs": [
    {
     "name": "stdout",
     "output_type": "stream",
     "text": [
      "55516.32088199837\n"
     ]
    }
   ],
   "source": [
    "this_mean = salary_mean.take(1)[0][0]\n",
    "print(this_mean)"
   ]
  },
  {
   "cell_type": "code",
   "execution_count": 16,
   "id": "52bd805a-525d-41e5-b344-5319a8f0c43a",
   "metadata": {},
   "outputs": [],
   "source": [
    "#Do it with a function\n",
    "def spark_take_value(mydf):\n",
    "    return mydf.take(1)[0][0]"
   ]
  },
  {
   "cell_type": "code",
   "execution_count": 17,
   "id": "845c7ec9-ae29-431c-9e75-b46a1910e46a",
   "metadata": {},
   "outputs": [
    {
     "name": "stdout",
     "output_type": "stream",
     "text": [
      "55516.32088199837\n",
      "99948.28125\n",
      "10101.919921875\n"
     ]
    }
   ],
   "source": [
    "for calculation in [salary_mean, salary_max, salary_min]:\n",
    "    print(spark_take_value(calculation))"
   ]
  },
  {
   "cell_type": "markdown",
   "id": "b339acd7-7610-4ec9-a654-3813b3706283",
   "metadata": {},
   "source": [
    "When values are stored in a variable, the <b>lit</b> method (aka <i>\"literal\"</i>) must be used.\n",
    "\n",
    "For example, to replace null values:"
   ]
  },
  {
   "cell_type": "code",
   "execution_count": 18,
   "id": "3d36ba47-3ddd-4d12-acd0-94e7279fb268",
   "metadata": {},
   "outputs": [
    {
     "name": "stdout",
     "output_type": "stream",
     "text": [
      "+---+----------+---------+------+----+--------+------+--------+---------+----------+------------+----------+\n",
      "| id|first_name|last_name|gender|City|JobTitle|Salary|Latitude|Longitude|clean_city|clean_salary|new_salary|\n",
      "+---+----------+---------+------+----+--------+------+--------+---------+----------+------------+----------+\n",
      "+---+----------+---------+------+----+--------+------+--------+---------+----------+------------+----------+\n",
      "\n"
     ]
    }
   ],
   "source": [
    "from pyspark.sql.functions import lit\n",
    "df2 = df2.withColumn(\"new_salary\", when(df2.clean_salary.isNull(), lit(this_mean)).otherwise(df2.clean_salary))\n",
    "\n",
    "#Check rows where NaN values have been replaced by mean\n",
    "df2.filter(col('new_salary') == lit(this_mean)).show()"
   ]
  },
  {
   "cell_type": "markdown",
   "id": "8974d4a1-abb7-41b7-817e-86f9b995848a",
   "metadata": {},
   "source": [
    "We did not have any Null values in Salary and therefore nothing to replace.\n",
    "\n",
    "However you can also use the same method to filter values above / below target value."
   ]
  },
  {
   "cell_type": "code",
   "execution_count": 19,
   "id": "da248b81-fc7a-44c1-b6e2-dce77924bdb7",
   "metadata": {},
   "outputs": [
    {
     "name": "stdout",
     "output_type": "stream",
     "text": [
      "55516.32088199837\n",
      "+---+----------+---------+------+---------------+--------------------+---------+----------+-----------+---------------+------------+----------------+\n",
      "| id|first_name|last_name|gender|           City|            JobTitle|   Salary|  Latitude|  Longitude|     clean_city|clean_salary|      new_salary|\n",
      "+---+----------+---------+------+---------------+--------------------+---------+----------+-----------+---------------+------------+----------------+\n",
      "|  6|     Maris|     Folk|Female|Kinsealy-Drinan|      Civil Engineer|$30101.16|53.4266145| -6.1644997|Kinsealy-Drinan|    30101.16|  30101.16015625|\n",
      "|  8|   Goddart|    Flear|  Male|      Trélissac|Desktop Support T...|$46116.36|45.1905186|  0.7423124|      Trélissac|    46116.36|    46116.359375|\n",
      "| 11|    Kylynn|  Lockart|Female|       El Cardo|Nuclear Power Eng...|$13604.63|     -5.85|-79.8833329|       El Cardo|    13604.63|13604.6298828125|\n",
      "| 13|      Kerr|   Braden|  Male|      Sułkowice|Compensation Analyst|$33432.99|49.8151822| 19.3771749|      Sułkowice|    33432.99|  33432.98828125|\n",
      "| 14|    Mickie|Whanstall|  Male|    Springfield|Assistant Media P...|$50838.53|42.1014803|-72.5766759|    Springfield|    50838.53|     50838.53125|\n",
      "| 15|    Kaspar|    Pally|  Male|         Chrást|  Analyst Programmer|$40163.03|49.7923299| 13.4915324|         Chrást|    40163.03|     40163.03125|\n",
      "| 16|    Norbie|   Gwyllt|  Male|         Xijiao|              Editor|$32492.73|43.4945737|  5.8978018|         Xijiao|    32492.73|  32492.73046875|\n",
      "| 17|    Claude|   Briant|Female|      Mieścisko|Research Assistan...|$51862.48|52.7441662| 17.3278637|      Mieścisko|    51862.48|  51862.48046875|\n",
      "| 18|     Thain|   Habbon|  Male| Foros do Trapo|     Design Engineer|$42135.67| 38.696249| -8.7098337| Foros do Trapo|    42135.67|    42135.671875|\n",
      "| 22|   Guthrey|   Johnke|  Male|         Xijiao|         Developer I|$13708.03|40.7576842| 23.1342184|         Xijiao|    13708.03|13708.0302734375|\n",
      "+---+----------+---------+------+---------------+--------------------+---------+----------+-----------+---------------+------------+----------------+\n",
      "only showing top 10 rows\n",
      "\n"
     ]
    }
   ],
   "source": [
    "#Check all rows with value below the mean\n",
    "print(this_mean)\n",
    "df2.filter(col('new_salary') < lit(this_mean)).show(10)"
   ]
  },
  {
   "cell_type": "markdown",
   "id": "069b8b62-b724-4f4a-b588-121dcb94e6b5",
   "metadata": {
    "tags": []
   },
   "source": [
    "### Calculate the Median Value"
   ]
  },
  {
   "cell_type": "markdown",
   "id": "c6023f61-e7aa-43b1-b66a-01a2c9bd49ac",
   "metadata": {},
   "source": [
    "Calculating the <b>median</b> in pyspark is a bit more complex than with pandas.\n",
    "\n",
    "In pandas: `df['my_column'].median()` does the job.\n",
    "\n",
    "Whereas, in pyspark we exploit numpy:"
   ]
  },
  {
   "cell_type": "code",
   "execution_count": 20,
   "id": "a149c1fa-8873-45b7-9c4d-920221323d4e",
   "metadata": {},
   "outputs": [
    {
     "name": "stdout",
     "output_type": "stream",
     "text": [
      "+----------+\n",
      "|  Latitude|\n",
      "+----------+\n",
      "|50.5774075|\n",
      "|48.8231572|\n",
      "|44.5047212|\n",
      "|      null|\n",
      "|53.4266145|\n",
      "+----------+\n",
      "only showing top 5 rows\n",
      "\n"
     ]
    }
   ],
   "source": [
    "#Select a specific column from pyspark dataframe\n",
    "latitudes = df2.select(\"Latitude\")\n",
    "\n",
    "latitudes.show(5)"
   ]
  },
  {
   "cell_type": "code",
   "execution_count": 21,
   "id": "dd9eaa06-0486-4abf-af75-b9c6509832d9",
   "metadata": {},
   "outputs": [
    {
     "name": "stdout",
     "output_type": "stream",
     "text": [
      "+----------+\n",
      "|  Latitude|\n",
      "+----------+\n",
      "|50.5774075|\n",
      "|48.8231572|\n",
      "|44.5047212|\n",
      "|53.4266145|\n",
      "|45.1905186|\n",
      "+----------+\n",
      "only showing top 5 rows\n",
      "\n"
     ]
    }
   ],
   "source": [
    "#Filter out Null Values\n",
    "latitudes = latitudes.filter(latitudes.Latitude.isNotNull())\n",
    "latitudes.show(5)"
   ]
  },
  {
   "cell_type": "code",
   "execution_count": 22,
   "id": "c4c16dbe-0dc2-4222-bf53-833741fb7263",
   "metadata": {},
   "outputs": [
    {
     "name": "stdout",
     "output_type": "stream",
     "text": [
      "+---------+\n",
      "|Latitude2|\n",
      "+---------+\n",
      "|50.577408|\n",
      "| 48.82316|\n",
      "|44.504723|\n",
      "|53.426613|\n",
      "|45.190517|\n",
      "+---------+\n",
      "only showing top 5 rows\n",
      "\n"
     ]
    }
   ],
   "source": [
    "#Ensure the values are float:\n",
    "latitudes = latitudes.withColumn('Latitude2', latitudes.Latitude.cast('float')).select('Latitude2')\n",
    "latitudes.show(5)"
   ]
  },
  {
   "cell_type": "markdown",
   "id": "c65fb284-0a1a-4b90-9e18-170560f7a702",
   "metadata": {},
   "source": [
    "#### Break down the method:\n",
    "1. We create a new column that is equal to `Latitude`. We name this `Latitude2`\n",
    "2. The new column is cast as `float`\n",
    "3. We select only the new column using the `select` method."
   ]
  },
  {
   "cell_type": "code",
   "execution_count": 23,
   "id": "4fbbb71c-64fb-42a4-947d-3a1f81142d5c",
   "metadata": {},
   "outputs": [
    {
     "name": "stdout",
     "output_type": "stream",
     "text": [
      "31.93397331237793\n"
     ]
    }
   ],
   "source": [
    "#Calculate the median\n",
    "latitude_median = np.median(latitudes.collect())\n",
    "print(latitude_median)"
   ]
  },
  {
   "cell_type": "code",
   "execution_count": 24,
   "id": "6f5bf216-c615-48d1-b288-9bc3d97f2b86",
   "metadata": {},
   "outputs": [],
   "source": [
    "# Do it with a function \n",
    "def spark_extract_median(data, column):\n",
    "    from pyspark.sql.functions import col      #Any string provided in the function can be used with the `col` method\n",
    "    \n",
    "    #Step 1: Select\n",
    "    this_data = data.select(column)\n",
    "    \n",
    "    #Step 2: Remove Nulls\n",
    "    this_data.filter(col(column).isNotNull())\n",
    "    \n",
    "    #Step 3: Convert to Float\n",
    "    this_data = this_data.withColumn(\n",
    "        \"new_col\", col(column).cast('float')\n",
    "    ).select(\"new_col\")\n",
    "    \n",
    "    #Step 4: Calculate the Median\n",
    "    my_median = np.median(this_data.collect())\n",
    "    return my_median"
   ]
  },
  {
   "cell_type": "code",
   "execution_count": 25,
   "id": "e78690d1-d4ae-4502-9ade-dc1c3cd6c8ca",
   "metadata": {},
   "outputs": [
    {
     "name": "stdout",
     "output_type": "stream",
     "text": [
      "36.85906219482422\n"
     ]
    }
   ],
   "source": [
    "longitudes = df2.select(\"Longitude\")\n",
    "longitude_median = spark_extract_median(longitudes, \"Longitude\")\n",
    "print(longitude_median)"
   ]
  },
  {
   "cell_type": "code",
   "execution_count": 26,
   "id": "fa81648d-55b1-4ba9-9fa0-10a5707e64e7",
   "metadata": {},
   "outputs": [
    {
     "name": "stdout",
     "output_type": "stream",
     "text": [
      "+---+----------+---------+------+---------+--------+---------+--------+----------+----------+------------+--------------+-----------------+----------+\n",
      "| id|first_name|last_name|gender|     City|JobTitle|   Salary|Latitude| Longitude|clean_city|clean_salary|    new_salary|              lat|       lon|\n",
      "+---+----------+---------+------+---------+--------+---------+--------+----------+----------+------------+--------------+-----------------+----------+\n",
      "|  5|  Sherwood|  Macieja|  Male|Mytishchi|VP Sales|$63863.09|    null|37.6489954| Mytishchi|    63863.09|63863.08984375|31.93397331237793|37.6489954|\n",
      "+---+----------+---------+------+---------+--------+---------+--------+----------+----------+------------+--------------+-----------------+----------+\n",
      "\n"
     ]
    }
   ],
   "source": [
    "#Replace values:\n",
    "df2 = df2.withColumn('lat', when(df2.Latitude.isNull(), lit(latitude_median)).otherwise(df2.Latitude))\n",
    "df2 = df2.withColumn('lon', when(df2.Longitude.isNull(), lit(longitude_median)).otherwise(df2.Longitude))\n",
    "\n",
    "#Show all rows where Latitude and Longitude are Null.\n",
    "df2.filter((df2.Latitude.isNull()) | (df2.Longitude.isNull())).show()"
   ]
  },
  {
   "cell_type": "markdown",
   "id": "8c0c5469",
   "metadata": {},
   "source": [
    "<br>\n",
    "\n",
    "[Back to Table of Contents](#tablecontents)"
   ]
  },
  {
   "cell_type": "markdown",
   "id": "9d027c7d",
   "metadata": {},
   "source": [
    "<a id='section5'></a>"
   ]
  },
  {
   "cell_type": "markdown",
   "id": "304a9682-6625-4a25-bd6d-c22c983732e8",
   "metadata": {
    "tags": []
   },
   "source": [
    "## Data Analysis with PySpark"
   ]
  },
  {
   "cell_type": "markdown",
   "id": "102e6fe7-a2f8-4d54-bb8b-ee07b7b91f6c",
   "metadata": {},
   "source": [
    "With PySpark we can run more <i>sql-like</i> analysis, including grouping and aggregations for specific target variables."
   ]
  },
  {
   "cell_type": "code",
   "execution_count": 27,
   "id": "0f4493ed-ecc5-4051-9ba7-cb8dcf7d9fbc",
   "metadata": {},
   "outputs": [],
   "source": [
    "#Import sql functions\n",
    "import pyspark.sql.functions as sqlfunc"
   ]
  },
  {
   "cell_type": "code",
   "execution_count": 28,
   "id": "b658973a-876c-450f-a560-4aa732112f27",
   "metadata": {},
   "outputs": [],
   "source": [
    "#Group by Gender, & Aggregate by Salary Mean"
   ]
  },
  {
   "cell_type": "code",
   "execution_count": 29,
   "id": "e6086dcf-9272-4426-a7f0-e6415cb7aba2",
   "metadata": {},
   "outputs": [
    {
     "name": "stdout",
     "output_type": "stream",
     "text": [
      "+---+----------+----------+------+---------+-------------------+---------+----------+-----------+----------+------------+-------------+----------+-----------+\n",
      "| id|first_name| last_name|gender|     City|           JobTitle|   Salary|  Latitude|  Longitude|clean_city|clean_salary|   new_salary|       lat|        lon|\n",
      "+---+----------+----------+------+---------+-------------------+---------+----------+-----------+----------+------------+-------------+----------+-----------+\n",
      "|  1|   Melinde| Shilburne|Female|Nowa Ruda|Assistant Professor|$57438.18|50.5774075| 16.4967184| Nowa Ruda|    57438.18|57438.1796875|50.5774075| 16.4967184|\n",
      "|  2|  Kimberly|Von Welden|Female|   Bulgan|      Programmer II|$62846.60|48.8231572|103.5218199|    Bulgan|     62846.6|62846.6015625|48.8231572|103.5218199|\n",
      "+---+----------+----------+------+---------+-------------------+---------+----------+-----------+----------+------------+-------------+----------+-----------+\n",
      "only showing top 2 rows\n",
      "\n"
     ]
    }
   ],
   "source": [
    "df2.show(2)"
   ]
  },
  {
   "cell_type": "markdown",
   "id": "f89e6540-98be-455a-9be4-018451c8472c",
   "metadata": {
    "tags": []
   },
   "source": [
    "### Single and Multiple Aggregation"
   ]
  },
  {
   "cell_type": "code",
   "execution_count": 30,
   "id": "43474082-bab6-4935-8928-47f3bcfd9214",
   "metadata": {},
   "outputs": [
    {
     "name": "stdout",
     "output_type": "stream",
     "text": [
      "+------+------------------+\n",
      "|gender|   avg(new_salary)|\n",
      "+------+------------------+\n",
      "|Female|55677.250125558036|\n",
      "|  Male| 55361.09385573019|\n",
      "+------+------------------+\n",
      "\n"
     ]
    }
   ],
   "source": [
    "genders = df2.groupBy('gender').agg(sqlfunc.avg('new_salary'))\n",
    "genders.show()"
   ]
  },
  {
   "cell_type": "code",
   "execution_count": 31,
   "id": "946e4d0f-63fc-4021-9383-2d974dcb62cf",
   "metadata": {},
   "outputs": [
    {
     "name": "stdout",
     "output_type": "stream",
     "text": [
      "+--------------------+------+------------------+\n",
      "|            JobTitle|gender|   avg(new_salary)|\n",
      "+--------------------+------+------------------+\n",
      "| Account Coordinator|Female|     46707.4453125|\n",
      "| Account Coordinator|  Male|51446.623697916664|\n",
      "|   Account Executive|Female|   52020.779296875|\n",
      "|   Account Executive|  Male|    65415.96796875|\n",
      "|Account Represent...|Female|51116.973307291664|\n",
      "|Account Represent...|Female|    41786.91015625|\n",
      "|Account Represent...|  Male|    40562.69921875|\n",
      "|Account Represent...|  Male|     22420.7109375|\n",
      "|       Accountant II|Female|  50354.8154296875|\n",
      "|      Accountant III|Female|  15589.5595703125|\n",
      "|      Accountant III|  Male|39183.798177083336|\n",
      "|       Accountant IV|Female|   82732.248046875|\n",
      "|Accounting Assist...|Female|  58916.0830078125|\n",
      "|Accounting Assist...|  Male|     59255.4296875|\n",
      "|Accounting Assist...|Female|44071.866536458336|\n",
      "|Accounting Assist...|  Male|   18795.439453125|\n",
      "|Accounting Assist...|Female|      57337.484375|\n",
      "|             Actuary|Female|    54196.85859375|\n",
      "|             Actuary|  Male|   75540.216796875|\n",
      "|Administrative As...|Female|       43652.28125|\n",
      "+--------------------+------+------------------+\n",
      "only showing top 20 rows\n",
      "\n"
     ]
    }
   ],
   "source": [
    "#Double Aggregation, Sorted by target column\n",
    "doubleagg = df2.groupBy('JobTitle','gender').agg(sqlfunc.avg('new_salary')).orderBy('JobTitle','gender')   #in orderBy you can use `ascending=False`\n",
    "doubleagg.show()"
   ]
  },
  {
   "cell_type": "markdown",
   "id": "e204e3a2-ff0f-4d4f-b6de-4775b02ae6d6",
   "metadata": {
    "tags": []
   },
   "source": [
    "### Separate values based on condition / target variable and compare statistics"
   ]
  },
  {
   "cell_type": "markdown",
   "id": "15881c72-34f6-405f-8d49-da9c05d9a719",
   "metadata": {},
   "source": [
    "Currently, the average salary is calculated based on all entries, regardless of the gender. This provides opportunity for data leak and bias in ML.\n",
    "\n",
    "Therefore:\n",
    "- we will separate women salary and men salary,\n",
    "- we will calculate the averages separately,\n",
    "- we will compare\n"
   ]
  },
  {
   "cell_type": "code",
   "execution_count": 32,
   "id": "23e0e33c-e642-4344-bf5f-3b2e3104f288",
   "metadata": {},
   "outputs": [
    {
     "name": "stdout",
     "output_type": "stream",
     "text": [
      "+---+------+--------------+--------------+--------------+\n",
      "| id|gender|    new_salary|      f_salary|      m_salary|\n",
      "+---+------+--------------+--------------+--------------+\n",
      "|  1|Female| 57438.1796875| 57438.1796875|           0.0|\n",
      "|  2|Female| 62846.6015625| 62846.6015625|           0.0|\n",
      "|  4|  Male|61489.23046875|           0.0|61489.23046875|\n",
      "|  5|  Male|63863.08984375|           0.0|63863.08984375|\n",
      "|  6|Female|30101.16015625|30101.16015625|           0.0|\n",
      "+---+------+--------------+--------------+--------------+\n",
      "only showing top 5 rows\n",
      "\n"
     ]
    }
   ],
   "source": [
    "#Create a new dataframe, based on df2\n",
    "dfg = df2.withColumn('f_salary', when(df2.gender=='Female', df2.new_salary).otherwise(lit(0)))\n",
    "\n",
    "#Overwrite current dataframe to add new column\n",
    "dfg = dfg.withColumn('m_salary', when(dfg.gender=='Male', df2.new_salary).otherwise(lit(0)))\n",
    "\n",
    "#View results\n",
    "dfg.select('id','gender','new_salary','f_salary','m_salary').show(5)"
   ]
  },
  {
   "cell_type": "code",
   "execution_count": 33,
   "id": "f7608522-5b43-4f06-b1c6-205c5864d8a7",
   "metadata": {},
   "outputs": [
    {
     "name": "stdout",
     "output_type": "stream",
     "text": [
      "+--------------------+------------------+------------------+\n",
      "|            JobTitle|     female_salary|       male_salary|\n",
      "+--------------------+------------------+------------------+\n",
      "|Systems Administr...|   50590.474609375|  15540.9501953125|\n",
      "|   Media Manager III|29586.436197916668|17381.920572916668|\n",
      "|  Recruiting Manager|34848.452473958336|  26383.4951171875|\n",
      "|       Geologist III|      31749.046875|    12830.75390625|\n",
      "|        Geologist II|               0.0|   43293.865234375|\n",
      "|Database Administ...|               0.0|     52018.4609375|\n",
      "|   Financial Analyst|   23353.776953125|       39606.05625|\n",
      "|  Analyst Programmer|  16406.1287109375|  21042.9634765625|\n",
      "|Software Engineer II|               0.0|      74782.640625|\n",
      "|       Accountant IV|   82732.248046875|               0.0|\n",
      "|    Product Engineer|    41825.48359375|       20464.94375|\n",
      "|Software Test Eng...|  32218.6083984375|   27122.462890625|\n",
      "|Safety Technician...|               0.0|   29421.529296875|\n",
      "|    Junior Executive|15752.220052083334|49510.330729166664|\n",
      "|Systems Administr...|       77059.21875|               0.0|\n",
      "|Human Resources A...|   24022.662109375| 16609.27783203125|\n",
      "|        VP Marketing| 7981.178385416667|52844.534830729164|\n",
      "|  Environmental Tech|13706.980143229166|      45660.890625|\n",
      "|Mechanical System...|31370.781901041668|44321.593098958336|\n",
      "| Assistant Professor|   22175.953515625|   26912.770703125|\n",
      "+--------------------+------------------+------------------+\n",
      "only showing top 20 rows\n",
      "\n"
     ]
    }
   ],
   "source": [
    "# Group data by JobTitle and aggregate by mean of salary/gender. \n",
    "# Provide also an alias to new columns to make them more understandable.\n",
    "# In this case, Job Title does not repeat itself, the column will have unique entries compared to when `gender` variable was used to aggregate\n",
    "genda = dfg.groupBy('JobTitle').agg(sqlfunc.avg('f_salary').alias('female_salary'), sqlfunc.avg('m_salary').alias('male_salary'))\n",
    "genda.show()"
   ]
  },
  {
   "cell_type": "markdown",
   "id": "bedc5689-5b2d-46d0-844d-e8c9887b8a33",
   "metadata": {
    "tags": []
   },
   "source": [
    "### Use case: Gender Pay Gap by Job Title"
   ]
  },
  {
   "cell_type": "code",
   "execution_count": 34,
   "id": "04a5dbd8-5059-4ff1-95b9-d2ef3032fd7d",
   "metadata": {},
   "outputs": [
    {
     "name": "stdout",
     "output_type": "stream",
     "text": [
      "+--------------------+------------------+------------------+-----------------+\n",
      "|            JobTitle|     female_salary|       male_salary|            delta|\n",
      "+--------------------+------------------+------------------+-----------------+\n",
      "|Systems Administr...|   50590.474609375|  15540.9501953125| 35049.5244140625|\n",
      "|   Media Manager III|29586.436197916668|17381.920572916668|     12204.515625|\n",
      "|  Recruiting Manager|34848.452473958336|  26383.4951171875|8464.957356770836|\n",
      "|       Geologist III|      31749.046875|    12830.75390625|   18918.29296875|\n",
      "|        Geologist II|               0.0|   43293.865234375| -43293.865234375|\n",
      "+--------------------+------------------+------------------+-----------------+\n",
      "only showing top 5 rows\n",
      "\n"
     ]
    }
   ],
   "source": [
    "# Calculate the `delta` between female and male salary\n",
    "genda = genda.withColumn('delta', genda.female_salary-genda.male_salary)\n",
    "genda.show(5)"
   ]
  },
  {
   "cell_type": "markdown",
   "id": "c01c538d-a006-457c-9df1-9ca077ebef2b",
   "metadata": {},
   "source": [
    "<br>\n",
    "<b>Question 1a:</b> What are the top 5 job with the highest average female salary?"
   ]
  },
  {
   "cell_type": "code",
   "execution_count": 35,
   "id": "6c6aa0ca-3ae8-4897-8ce9-f49515f90bf0",
   "metadata": {},
   "outputs": [
    {
     "name": "stdout",
     "output_type": "stream",
     "text": [
      "+--------------------+---------------+-----------+---------------+\n",
      "|            JobTitle|  female_salary|male_salary|          delta|\n",
      "+--------------------+---------------+-----------+---------------+\n",
      "|Programmer Analys...|   88029.109375|        0.0|   88029.109375|\n",
      "|Computer Systems ...|  87553.7265625|        0.0|  87553.7265625|\n",
      "|     Media Manager I|  83143.3984375|        0.0|  83143.3984375|\n",
      "|       Accountant IV|82732.248046875|        0.0|82732.248046875|\n",
      "|Systems Administr...|    77059.21875|        0.0|    77059.21875|\n",
      "+--------------------+---------------+-----------+---------------+\n",
      "only showing top 5 rows\n",
      "\n"
     ]
    }
   ],
   "source": [
    "genda.orderBy('female_salary', ascending=False).show(5)"
   ]
  },
  {
   "cell_type": "markdown",
   "id": "0b213454-7bb3-42dd-abbd-c5fdec427069",
   "metadata": {},
   "source": [
    "<br>\n",
    "<b>Question 1b:</b> What instead for the male average salary?"
   ]
  },
  {
   "cell_type": "code",
   "execution_count": 36,
   "id": "91f9969c-df93-4809-bfd7-ca9556c68986",
   "metadata": {},
   "outputs": [
    {
     "name": "stdout",
     "output_type": "stream",
     "text": [
      "+--------------------+-------------+-----------------+------------------+\n",
      "|            JobTitle|female_salary|      male_salary|             delta|\n",
      "+--------------------+-------------+-----------------+------------------+\n",
      "|Database Administ...|          0.0|    94743.2578125|    -94743.2578125|\n",
      "|Computer Systems ...|          0.0|     93275.421875|     -93275.421875|\n",
      "| Safety Technician I|          0.0|    90918.6171875|    -90918.6171875|\n",
      "|Systems Administr...|          0.0|88168.77083333333|-88168.77083333333|\n",
      "|      Health Coach I|          0.0|83999.41927083333|-83999.41927083333|\n",
      "+--------------------+-------------+-----------------+------------------+\n",
      "only showing top 5 rows\n",
      "\n"
     ]
    }
   ],
   "source": [
    "genda.orderBy('male_salary', ascending=False).show(5)"
   ]
  },
  {
   "cell_type": "markdown",
   "id": "b72f09c4-95ca-4124-978f-3cd4f986ec89",
   "metadata": {},
   "source": [
    "<br>\n",
    "<b>Question 2a:</b> Based on delta where are the biggest discrepancies?"
   ]
  },
  {
   "cell_type": "code",
   "execution_count": 37,
   "id": "71e3f065-d4e0-42e7-951f-2ed7cad1ca81",
   "metadata": {},
   "outputs": [
    {
     "name": "stdout",
     "output_type": "stream",
     "text": [
      "+--------------------+------------------+-----------------+-----------------+\n",
      "|            JobTitle|     female_salary|      male_salary|            delta|\n",
      "+--------------------+------------------+-----------------+-----------------+\n",
      "|Software Test Eng...|     68684.3765625|     5185.9859375|63498.39062499999|\n",
      "|     Web Designer II|           69477.0| 16183.1201171875| 53293.8798828125|\n",
      "|Systems Administr...|     58661.3828125| 10665.5595703125| 47995.8232421875|\n",
      "|       Social Worker|   51405.037890625|  13511.651171875|   37893.38671875|\n",
      "|   Director of Sales|43417.360677083336|5873.821180555556|37543.53949652778|\n",
      "+--------------------+------------------+-----------------+-----------------+\n",
      "only showing top 5 rows\n",
      "\n"
     ]
    }
   ],
   "source": [
    "# Filter only jobs where both male and female have avg. salary != 0\n",
    "genda.filter((genda.female_salary !=0) & (genda.male_salary !=0)).orderBy('delta', ascending=False).show(5)"
   ]
  },
  {
   "cell_type": "markdown",
   "id": "c9a7590a-e240-48ea-868a-eac019f34f81",
   "metadata": {},
   "source": [
    "<b>Question 2b:</b> For which jobs there is less gender pay gap?"
   ]
  },
  {
   "cell_type": "code",
   "execution_count": 38,
   "id": "6a4699ef-c659-420d-bfbc-d6268f315322",
   "metadata": {},
   "outputs": [
    {
     "name": "stdout",
     "output_type": "stream",
     "text": [
      "-810.3332432444215\n"
     ]
    }
   ],
   "source": [
    "#Calculate mean for delta\n",
    "avg_delta = genda.groupBy().avg('delta').take(1)[0][0]\n",
    "print(avg_delta)"
   ]
  },
  {
   "cell_type": "code",
   "execution_count": 39,
   "id": "5764c57a-bc6f-4463-9213-266ce89daad1",
   "metadata": {},
   "outputs": [
    {
     "name": "stdout",
     "output_type": "stream",
     "text": [
      "+--------------------+------------------+------------------+-----------------+\n",
      "|            JobTitle|     female_salary|       male_salary|            delta|\n",
      "+--------------------+------------------+------------------+-----------------+\n",
      "|        Engineer III|33802.518229166664|33726.610677083336|75.90755208332848|\n",
      "| Biostatistician III|   24033.947265625|        24631.0625|   -597.115234375|\n",
      "|Account Represent...|   20893.455078125|   20281.349609375|     612.10546875|\n",
      "+--------------------+------------------+------------------+-----------------+\n",
      "\n"
     ]
    }
   ],
   "source": [
    "#Use mean and its opposite to filter a range for target value\n",
    "genda2 = genda.filter((genda.delta >= lit(avg_delta)) & (genda.delta <= lit(avg_delta)*-1))\n",
    "genda2.show()"
   ]
  },
  {
   "cell_type": "markdown",
   "id": "de20a354-68fc-4532-bd9d-4aa68d9645b7",
   "metadata": {
    "tags": []
   },
   "source": [
    "### Use Case: Gender Pay Gap by City"
   ]
  },
  {
   "cell_type": "markdown",
   "id": "87c817c7-d300-49a5-903a-d0e010eaea3b",
   "metadata": {},
   "source": [
    "<br>\n",
    "<b>Question 3:</b> What is the city that pays better?"
   ]
  },
  {
   "cell_type": "code",
   "execution_count": 40,
   "id": "c8c1607a-956f-4e8a-bd78-745cab456638",
   "metadata": {},
   "outputs": [
    {
     "name": "stdout",
     "output_type": "stream",
     "text": [
      "+---+---------------+------+--------------+--------------+--------------+\n",
      "| id|           City|gender|    new_salary|      f_salary|      m_salary|\n",
      "+---+---------------+------+--------------+--------------+--------------+\n",
      "|  1|      Nowa Ruda|Female| 57438.1796875| 57438.1796875|           0.0|\n",
      "|  2|         Bulgan|Female| 62846.6015625| 62846.6015625|           0.0|\n",
      "|  4|  Divnomorskoye|  Male|61489.23046875|           0.0|61489.23046875|\n",
      "|  5|      Mytishchi|  Male|63863.08984375|           0.0|63863.08984375|\n",
      "|  6|Kinsealy-Drinan|Female|30101.16015625|30101.16015625|           0.0|\n",
      "+---+---------------+------+--------------+--------------+--------------+\n",
      "only showing top 5 rows\n",
      "\n"
     ]
    }
   ],
   "source": [
    "dfg.select('id','City', 'gender','new_salary','f_salary','m_salary').show(5)"
   ]
  },
  {
   "cell_type": "code",
   "execution_count": 41,
   "id": "8dd4c4c3-ed21-470a-83e3-4ac98b37e162",
   "metadata": {},
   "outputs": [
    {
     "name": "stdout",
     "output_type": "stream",
     "text": [
      "+-----------+-------------+\n",
      "|       City|   avg_salary|\n",
      "+-----------+-------------+\n",
      "|  Mesopotam|  99948.28125|\n",
      "| Zhongcheng| 99942.921875|\n",
      "|     Caxias|99786.3984375|\n",
      "|Karangtawar|99638.9921875|\n",
      "|  Itabaiana|  99502.15625|\n",
      "+-----------+-------------+\n",
      "only showing top 5 rows\n",
      "\n"
     ]
    }
   ],
   "source": [
    "# Group by city, and average salary\n",
    "cityavg = dfg.groupBy('City').agg(sqlfunc.avg('new_salary').alias('avg_salary'))\n",
    "cityavg = cityavg.sort(col('avg_salary').desc())    # Sort by Average Salary in descending order\n",
    "cityavg.show(5)"
   ]
  },
  {
   "cell_type": "markdown",
   "id": "f22b84a5-37ca-469b-ab91-bd97b4dfe82b",
   "metadata": {},
   "source": [
    "<b>Question 4a:</b> In Which cities the gender pay gap is more pronounced?"
   ]
  },
  {
   "cell_type": "code",
   "execution_count": 42,
   "id": "850fa86f-f7bf-4f09-866a-79458f775d3e",
   "metadata": {},
   "outputs": [
    {
     "name": "stdout",
     "output_type": "stream",
     "text": [
      "+-----------+----------------+--------------+----------------+\n",
      "|       City|   female_salary|   male_salary|           delta|\n",
      "+-----------+----------------+--------------+----------------+\n",
      "|  Sułkowice|             0.0|33432.98828125| -33432.98828125|\n",
      "|    Klippan|     77039.46875|           0.0|     77039.46875|\n",
      "|Trollhättan|53311.6845703125|           0.0|53311.6845703125|\n",
      "|  Shinaihai|    39544.640625|           0.0|    39544.640625|\n",
      "|   Hongzhou|  35707.30859375|           0.0|  35707.30859375|\n",
      "+-----------+----------------+--------------+----------------+\n",
      "only showing top 5 rows\n",
      "\n"
     ]
    }
   ],
   "source": [
    "genda3 = dfg.groupBy('City').agg(sqlfunc.avg('f_salary').alias('female_salary'), sqlfunc.avg('m_salary').alias('male_salary'))\n",
    "genda3 = genda3.withColumn('delta', genda3.female_salary - genda3.male_salary)\n",
    "genda3.show(5)"
   ]
  },
  {
   "cell_type": "code",
   "execution_count": 43,
   "id": "4c08c2c1-10ac-463e-8772-b741c270ac15",
   "metadata": {},
   "outputs": [
    {
     "name": "stdout",
     "output_type": "stream",
     "text": [
      "Range with min -99942.921875 & max 99948.28125\n"
     ]
    }
   ],
   "source": [
    "max_delta = genda3.groupBy().max('delta').take(1)[0][0]\n",
    "min_delta = genda3.groupBy().min('delta').take(1)[0][0]\n",
    "\n",
    "print(f'Range with min {min_delta} & max {max_delta}')"
   ]
  },
  {
   "cell_type": "code",
   "execution_count": 44,
   "id": "b033812d-b90f-4a48-920f-d56923e272e2",
   "metadata": {},
   "outputs": [
    {
     "name": "stdout",
     "output_type": "stream",
     "text": [
      "+----------+-------------+------------+-------------+\n",
      "|      City|female_salary| male_salary|        delta|\n",
      "+----------+-------------+------------+-------------+\n",
      "|Zhongcheng|          0.0|99942.921875|-99942.921875|\n",
      "| Mesopotam|  99948.28125|         0.0|  99948.28125|\n",
      "+----------+-------------+------------+-------------+\n",
      "\n"
     ]
    }
   ],
   "source": [
    "genda3a = genda3.filter((genda3.delta == lit(min_delta)) | (genda3.delta == lit(max_delta)))\n",
    "genda3a.show()"
   ]
  },
  {
   "cell_type": "markdown",
   "id": "b268843c-e238-4b36-874f-aad9566d9e26",
   "metadata": {},
   "source": [
    "<b>Question 4b:</b> What are the top 5 cities with less gender pay gap?"
   ]
  },
  {
   "cell_type": "code",
   "execution_count": 45,
   "id": "a6b1c39e-a5f4-4389-8be6-63f4689a106c",
   "metadata": {},
   "outputs": [
    {
     "name": "stdout",
     "output_type": "stream",
     "text": [
      "-736.0660494562759\n"
     ]
    }
   ],
   "source": [
    "avg_delta2 = genda3.groupBy().avg('delta').take(1)[0][0]\n",
    "print(avg_delta2)"
   ]
  },
  {
   "cell_type": "code",
   "execution_count": 46,
   "id": "7fc1a809-c56f-41c2-bf91-d8c4b9f18e30",
   "metadata": {},
   "outputs": [
    {
     "name": "stdout",
     "output_type": "stream",
     "text": [
      "+----+-------------+-----------+-----+\n",
      "|City|female_salary|male_salary|delta|\n",
      "+----+-------------+-----------+-----+\n",
      "+----+-------------+-----------+-----+\n",
      "\n"
     ]
    }
   ],
   "source": [
    "genda3b = genda3.filter((genda3.delta >= lit(avg_delta2)) & (genda3.delta <= lit(avg_delta2)*-1))\n",
    "genda3b.show()"
   ]
  },
  {
   "cell_type": "markdown",
   "id": "291ad532-0977-4065-997e-96b769538e19",
   "metadata": {},
   "source": [
    "<b>Note:</b> \n",
    "\n",
    "Dataset must be very skewed (with mean and median being apart).\n",
    "\n",
    "It would be interesting to give a look at the hued distribution of delta to understand why there are no values included between range of averages."
   ]
  },
  {
   "cell_type": "code",
   "execution_count": 47,
   "id": "6ad1c368-7199-4508-b312-0d3465488128",
   "metadata": {},
   "outputs": [
    {
     "name": "stdout",
     "output_type": "stream",
     "text": [
      "+-----------+-----------------+----------------+-----------------+\n",
      "|       City|    female_salary|     male_salary|            delta|\n",
      "+-----------+-----------------+----------------+-----------------+\n",
      "|Springfield| 15278.0595703125|    25419.265625|-10141.2060546875|\n",
      "|     Gaoshi|              0.0| 10101.919921875| -10101.919921875|\n",
      "|   Yongfeng|   43173.80078125|   37051.3046875|    6122.49609375|\n",
      "|  Mieścisko|17656.75244140625|11236.7802734375| 6419.97216796875|\n",
      "|    Atlanta|  20872.615234375|  12964.96484375|   7907.650390625|\n",
      "+-----------+-----------------+----------------+-----------------+\n",
      "\n"
     ]
    }
   ],
   "source": [
    "genda3c = genda3.filter((genda3.delta >= -10200) & (genda3.delta <= 10200)).orderBy('delta')\n",
    "genda3c.show()"
   ]
  },
  {
   "cell_type": "markdown",
   "id": "088f91a7-b77e-42c5-907b-eafd3caa4bcf",
   "metadata": {},
   "source": [
    "<b>Yonfeng</b> gas the most moderate gender pay gap of all other cities.\n",
    "\n",
    "A more complete study should suggest average salary by gender, by city, by job title."
   ]
  },
  {
   "cell_type": "markdown",
   "id": "385d3a30-2cf1-43a8-9e6c-a18822c6694a",
   "metadata": {},
   "source": [
    "<br>\n",
    "\n",
    "[Back to Table of Contents](#tablecontents)"
   ]
  },
  {
   "cell_type": "markdown",
   "id": "1315e3ba-a08e-4cfe-947c-60c7186669cc",
   "metadata": {},
   "source": [
    "<a id='summary'></a>"
   ]
  },
  {
   "cell_type": "markdown",
   "id": "4d8febe7-b2de-4bcb-8256-0f90f4cb43ee",
   "metadata": {},
   "source": [
    "## Summary of functions used"
   ]
  },
  {
   "cell_type": "markdown",
   "id": "644464a6-915e-450b-990a-6e243857b092",
   "metadata": {
    "jp-MarkdownHeadingCollapsed": true,
    "tags": []
   },
   "source": [
    "<br>\n",
    "<h5>Load data from lists of tuples</h5>"
   ]
  },
  {
   "cell_type": "raw",
   "id": "35941f58-5e75-4878-9509-871a5576db4f",
   "metadata": {
    "tags": []
   },
   "source": [
    "data = [(\"Java\", \"20000\"), (\"Python\", \"100000\"), (\"Scala\", \"3000\")]\n",
    "columns = [\"language\",\"users_count\"]\n",
    "\n",
    "#Create a DataFrame using PySpark\n",
    "df0 = spark.createDataFrame(data).toDF(*columns)"
   ]
  },
  {
   "cell_type": "markdown",
   "id": "72f19be8-789a-4bdf-87ae-40affaca8da5",
   "metadata": {
    "jp-MarkdownHeadingCollapsed": true,
    "tags": []
   },
   "source": [
    "<br>\n",
    "<h5>Load a csv file and show the Dataframe</h5>"
   ]
  },
  {
   "cell_type": "raw",
   "id": "3f30fdcb-fd8b-45f4-94ea-046d6d73f2f4",
   "metadata": {},
   "source": [
    "df = spark.read.format(\"csv\").option(\"header\", \"true\").load(thisfile.csv)\n",
    "df.show()"
   ]
  },
  {
   "cell_type": "markdown",
   "id": "665c3992-3c9a-4172-9e39-96cb341ff46b",
   "metadata": {
    "jp-MarkdownHeadingCollapsed": true,
    "tags": []
   },
   "source": [
    "<br>\n",
    "<h5>Handle Null Values</h5>"
   ]
  },
  {
   "cell_type": "raw",
   "id": "ea0a5007-f3b5-4935-8d44-af80b2a815be",
   "metadata": {},
   "source": [
    "# Use `withColumn` method and `when` condition to create new column with handled values\n",
    "# PySpark dataframes are immutable\n",
    "df2 = df.withColumn(\"NEW_COLUMN\", when(df.OLD_COLUMN.isNull(), \"Unknown\").otherwise(df.OLD_COLUMN))"
   ]
  },
  {
   "cell_type": "markdown",
   "id": "37361b1b-b5c8-424e-bbcd-c51841fc7109",
   "metadata": {
    "jp-MarkdownHeadingCollapsed": true,
    "tags": []
   },
   "source": [
    "<br>\n",
    "<h5>Filter data</h5>"
   ]
  },
  {
   "cell_type": "raw",
   "id": "350a7762-5f12-4f70-a976-4d607f4eb97d",
   "metadata": {},
   "source": [
    "# For Null, NonNull values:\n",
    "df2 = df.filter(df.THIS_COLUMN.isNotNull())\n",
    "\n",
    "# For specific values (supports all operators: ==; !=; >=; <=; >; <)\n",
    "df2 = df.filter(df.THIS_COLUMN == 'this_value'())"
   ]
  },
  {
   "cell_type": "markdown",
   "id": "3cc1442c-9d13-4650-8b87-c3582376f9fd",
   "metadata": {
    "jp-MarkdownHeadingCollapsed": true,
    "tags": []
   },
   "source": [
    "<br>\n",
    "<h5>Select Substring</h5>"
   ]
  },
  {
   "cell_type": "raw",
   "id": "d38668ff-f31c-458c-bb5d-e129dfc6ac05",
   "metadata": {},
   "source": [
    "df = df.withColumn(\"SUB_STRING_COL\", df2.FULL_STRING_COL.substr(2,100))"
   ]
  },
  {
   "cell_type": "markdown",
   "id": "cd4a2559-ed34-4a8b-a831-a2881645b008",
   "metadata": {
    "jp-MarkdownHeadingCollapsed": true,
    "tags": []
   },
   "source": [
    "<br>\n",
    "<h5>Cast as float</h5>"
   ]
  },
  {
   "cell_type": "raw",
   "id": "00ca13f2-a5d8-474b-8c2e-2f47a8680c02",
   "metadata": {},
   "source": [
    "df = df.withColumn(\"CASTED_FLOAT\", df2.FULL_STRING_COL.cast('float'))"
   ]
  },
  {
   "cell_type": "markdown",
   "id": "3ee5ccea-7fce-4f14-be52-a301f05257e9",
   "metadata": {
    "jp-MarkdownHeadingCollapsed": true,
    "tags": []
   },
   "source": [
    "<br>\n",
    "<h5>Select Substring AND cast as float</h5>"
   ]
  },
  {
   "cell_type": "raw",
   "id": "7a00793a-1513-4747-91af-bb09574ec721",
   "metadata": {
    "tags": []
   },
   "source": [
    "df = df.withColumn(\"SUBSTR_CASTED_FLOAT\", df2.FULL_STRING_COL.substr(2,100).cast('float'))"
   ]
  },
  {
   "cell_type": "markdown",
   "id": "d6b62eb2-ef75-43c2-a342-6ca942574e4d",
   "metadata": {
    "jp-MarkdownHeadingCollapsed": true,
    "tags": []
   },
   "source": [
    "<br>\n",
    "<h5>Calculate statistics from numerical column</h5>"
   ]
  },
  {
   "cell_type": "raw",
   "id": "49fe24a1-45e2-4372-a0d6-b875c22ebdab",
   "metadata": {},
   "source": [
    "# Mean, Max, Min\n",
    "this_mean = df.groupBy().avg('NUM_COL')\n",
    "this_max = df.groupBy().max('NUM_COL')\n",
    "this_min = df.groupBy().min('NUM_COL')\n",
    "\n",
    "# Extract single value from the dataframe (TAKE method)\n",
    "mean_value = this_mean.take(1)[0][0]\n",
    "print(mean_value)"
   ]
  },
  {
   "cell_type": "markdown",
   "id": "80c2f7ab-7308-44a8-86d8-0a9f1e23e208",
   "metadata": {
    "jp-MarkdownHeadingCollapsed": true,
    "tags": []
   },
   "source": [
    "<br>\n",
    "<h5>Calculate Median (using NumPy)</h5>"
   ]
  },
  {
   "cell_type": "raw",
   "id": "b4900a8a-aa95-42d1-a5c4-cc4c7c7e11d8",
   "metadata": {},
   "source": [
    "# Step1: select column\n",
    "my_target = df.select(\"TARGET_COL\")\n",
    "\n",
    "# Step2: filter out Null values\n",
    "my_target = my_target.filter(my_target.TARGET_COL.isNotNull())\n",
    "\n",
    "# Step3: cast target data as float in a new column\n",
    "my_target = my_target.withColumn(\"CAST_TARGET\", my_target.TARGET_COL.cast('float')).select(\"CAST_TARGET\")\n",
    "\n",
    "# Step4: calculate median for new column & print\n",
    "this_median = np.median(my_target.collect())\n",
    "print(this_median)"
   ]
  },
  {
   "cell_type": "markdown",
   "id": "47427205-2340-410f-9d6b-7c0077f5bc64",
   "metadata": {
    "jp-MarkdownHeadingCollapsed": true,
    "tags": []
   },
   "source": [
    "<br>\n",
    "<h5>Import pyspark.sql.functions</h5>"
   ]
  },
  {
   "cell_type": "raw",
   "id": "3ce32595-ae4c-4a9b-94de-c3d178f54b3b",
   "metadata": {},
   "source": [
    "import pyspark.sql.functions as sqlfunc"
   ]
  },
  {
   "cell_type": "markdown",
   "id": "e1f259dc-8c77-499c-a999-9f0633569cc2",
   "metadata": {
    "jp-MarkdownHeadingCollapsed": true,
    "tags": []
   },
   "source": [
    "<br>\n",
    "<h5>Select specific columns</h5>"
   ]
  },
  {
   "cell_type": "raw",
   "id": "89ce4553-4456-4a70-91c7-56e7fe8c9360",
   "metadata": {},
   "source": [
    "df.select('col1','col2','col3','col4','col5').show()"
   ]
  },
  {
   "cell_type": "markdown",
   "id": "f634c825-491d-4cba-b986-a6c751f66ddb",
   "metadata": {
    "jp-MarkdownHeadingCollapsed": true,
    "tags": []
   },
   "source": [
    "<br>\n",
    "<h5>Group by categorical variable</h5>"
   ]
  },
  {
   "cell_type": "raw",
   "id": "9513c63c-48ab-464b-9aa0-5797bdc45f94",
   "metadata": {},
   "source": [
    "genders = df.groupBy('gender')"
   ]
  },
  {
   "cell_type": "markdown",
   "id": "1569a411-7d39-4dad-bc43-3360bba0e399",
   "metadata": {
    "jp-MarkdownHeadingCollapsed": true,
    "tags": []
   },
   "source": [
    "<br>\n",
    "<h5>Group by categorical variable and aggregate by numerical variable (e.g. average salary by gender)</h5>"
   ]
  },
  {
   "cell_type": "raw",
   "id": "7bb8df1f-0c21-4c09-b71d-046da9e015ce",
   "metadata": {},
   "source": [
    "genders = df.groupBy('gender').agg(sqlfunc.avg('salary'))"
   ]
  },
  {
   "cell_type": "markdown",
   "id": "f5f7b50a-caf4-4ae9-8ea6-d600189c71ff",
   "metadata": {
    "jp-MarkdownHeadingCollapsed": true,
    "tags": []
   },
   "source": [
    "<br>\n",
    "<h5>Order by target value</h5>"
   ]
  },
  {
   "cell_type": "raw",
   "id": "2feaf94d-69dd-4b6c-9932-25b921df2d1b",
   "metadata": {},
   "source": [
    "# Method 1: use `ascending=false`\n",
    "df.orderBy('salary', ascending=False).show(5)"
   ]
  },
  {
   "cell_type": "raw",
   "id": "7d0f724a-74bc-43ae-a7cb-348ed33b90a1",
   "metadata": {},
   "source": [
    "# Method 2: use in-built function `col` and `desc`\n",
    "df2 = df.sort(col('salary').desc())"
   ]
  },
  {
   "cell_type": "markdown",
   "id": "c7d3c77e-ef82-46b2-abf3-00117ea3b496",
   "metadata": {
    "jp-MarkdownHeadingCollapsed": true,
    "tags": []
   },
   "source": [
    "<br>\n",
    "<h5>Multiaggregation with alias for new columns</h5>"
   ]
  },
  {
   "cell_type": "raw",
   "id": "e1750270-6b9f-4df1-8ab3-99c819e609fe",
   "metadata": {},
   "source": [
    "new_df = df.groupBy('City').agg(sqlfunc.avg('f_salary').alias('female_salary'), sqlfunc.avg('m_salary').alias('male_salary'))"
   ]
  },
  {
   "cell_type": "markdown",
   "id": "c7eac686-ef8f-47f0-aca4-9dedace638c6",
   "metadata": {
    "jp-MarkdownHeadingCollapsed": true,
    "tags": []
   },
   "source": [
    "<br>\n",
    "<h5>Filter using AND (&) and OR (|) conditions</h5>"
   ]
  },
  {
   "cell_type": "raw",
   "id": "844e102d-35fb-413f-9da8-521f052851c7",
   "metadata": {},
   "source": [
    "# AND condition expressed by (A) & (B); both conditions must be TRUE\n",
    "df2 = df.filter((df.delta >= -10200) & (df.delta <= 10200)).orderBy('delta')"
   ]
  },
  {
   "cell_type": "raw",
   "id": "9d7d2786-ef48-4040-bbed-801aa2fefaed",
   "metadata": {},
   "source": [
    "# OR condition expressed by (A) | (B); at least one condition must be TRUE\n",
    "df2 = df.filter((df.delta >= -10200) | (df.delta <= 10200)).orderBy('delta')"
   ]
  },
  {
   "cell_type": "markdown",
   "id": "ab3f43ee-295d-4c43-ae46-27d2473f4867",
   "metadata": {
    "jp-MarkdownHeadingCollapsed": true,
    "tags": []
   },
   "source": [
    "<br>\n",
    "<h5>Use literal value (.lit method) for calculated values</h5>"
   ]
  },
  {
   "cell_type": "raw",
   "id": "1cca2f87-14a3-4559-9c04-08cd01a12140",
   "metadata": {},
   "source": [
    "#Calculate Mean\n",
    "mean = df.groupBy().avg('delta').take(1)[0][0]\n",
    "\n",
    "#Filter only values greater than mean value\n",
    "df2 = df.filter((df.delta > lit(mean)) "
   ]
  },
  {
   "cell_type": "markdown",
   "id": "3e768d82",
   "metadata": {},
   "source": [
    "<a id='section6'></a>"
   ]
  },
  {
   "cell_type": "markdown",
   "id": "c22b1bcc-e219-409d-ae9a-4d5242cd0952",
   "metadata": {},
   "source": [
    "<h2> </h2>\n",
    "<hr>\n",
    "\n",
    "## Next Steps"
   ]
  },
  {
   "cell_type": "markdown",
   "id": "4fba8f7a-be35-44aa-bfdb-b49d74e0b2dc",
   "metadata": {},
   "source": [
    "Define in details how to use the features of PySpark library for:\n",
    "\n",
    "1. Bringing data into dataframes\n",
    "2. Inspecting a Dataframe\n",
    "3. Handling Null & Duplicate values\n",
    "4. Selecting and Filtering Data\n",
    "5. Applying Multiple Filters\n",
    "6. Running SQL on Dataframes\n",
    "7. Adding Calculated Columns\n",
    "8. Group By and Aggregation\n",
    "9. Writing Dataframes to files\n",
    "\n",
    "<h6><i> End of the Notebook</i></h6>"
   ]
  },
  {
   "cell_type": "code",
   "execution_count": 48,
   "id": "d6ab4fc2-f526-4c34-b3db-da63a5bc555f",
   "metadata": {},
   "outputs": [
    {
     "name": "stdout",
     "output_type": "stream",
     "text": [
      "\n",
      "    End of the Notebook :)\n"
     ]
    }
   ],
   "source": [
    "print('\\n    End of the Notebook :)')"
   ]
  },
  {
   "cell_type": "markdown",
   "id": "6f470eab",
   "metadata": {},
   "source": [
    "<br>\n",
    "\n",
    "[Back to Table of Contents](#tablecontents)"
   ]
  },
  {
   "cell_type": "code",
   "execution_count": null,
   "id": "bf7b72e1",
   "metadata": {},
   "outputs": [],
   "source": []
  }
 ],
 "metadata": {
  "kernelspec": {
   "display_name": "Python 3 (ipykernel)",
   "language": "python",
   "name": "python3"
  },
  "language_info": {
   "codemirror_mode": {
    "name": "ipython",
    "version": 3
   },
   "file_extension": ".py",
   "mimetype": "text/x-python",
   "name": "python",
   "nbconvert_exporter": "python",
   "pygments_lexer": "ipython3",
   "version": "3.9.12"
  }
 },
 "nbformat": 4,
 "nbformat_minor": 5
}

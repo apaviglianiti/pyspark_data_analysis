{
 "cells": [
  {
   "cell_type": "markdown",
   "id": "d07a0a88",
   "metadata": {},
   "source": [
    "<a id='tablecontents'></a>"
   ]
  },
  {
   "cell_type": "markdown",
   "id": "71d9164f-b4ba-48a2-9b65-2fc18931f36e",
   "metadata": {
    "tags": []
   },
   "source": [
    "# PySpark for Data Analysis on Jupyter Notebook - Details for Data Manipulation\n",
    "<h5>2023, Andrea Paviglianiti</h5>\n",
    "\n",
    "<hr>"
   ]
  },
  {
   "cell_type": "markdown",
   "id": "987de6c6-0c06-453a-8ad9-e888118f83a1",
   "metadata": {},
   "source": [
    "## Table of Contents:\n",
    "\n",
    "- [Import all dependencies](#section1)\n",
    "- [Create a Spark Session](#section2)\n",
    "- [Load Dataset using Spark DataFrame](#section3)\n",
    "- [Inspecting the DataFrame](#section4)\n",
    "- [Dealing with Duplicates](#section5)\n",
    "- [Dealing with NaN](#section6)\n",
    "- [Select and Filter a Dataframe](#section7)\n",
    "- [Running SQL on a DataFrame](#section8)\n",
    "- [Calculated Columns](#section9)\n",
    "- [Group By and Aggregation](#section10)\n",
    "- [Writing DataFrame to File](#section11)\n",
    "\n",
    "<br>\n",
    "<hr>"
   ]
  },
  {
   "cell_type": "markdown",
   "id": "2e1f9524",
   "metadata": {},
   "source": [
    "<a id='section1'></a>"
   ]
  },
  {
   "cell_type": "markdown",
   "id": "110fc202-0e30-4fed-8ba3-e67e73556c41",
   "metadata": {
    "tags": []
   },
   "source": [
    "## Import all dependencies"
   ]
  },
  {
   "cell_type": "code",
   "execution_count": 1,
   "id": "069a042e-6387-41c2-ad3f-5e429566c9fd",
   "metadata": {},
   "outputs": [],
   "source": [
    "import numpy as np\n",
    "import os\n",
    "\n",
    "from pyspark.sql import SparkSession\n",
    "from pyspark.sql.functions import *\n",
    "from pyspark.sql.types import *             #To define schemas"
   ]
  },
  {
   "cell_type": "markdown",
   "id": "cce8e1be",
   "metadata": {},
   "source": [
    "<a id='section2'></a>"
   ]
  },
  {
   "cell_type": "markdown",
   "id": "0ed38d92-c927-4692-a99a-7c723a60a628",
   "metadata": {
    "tags": []
   },
   "source": [
    "## Create a Spark Session"
   ]
  },
  {
   "cell_type": "code",
   "execution_count": 2,
   "id": "e298859a-bcc7-45f9-9cbb-e838a7104f64",
   "metadata": {},
   "outputs": [
    {
     "name": "stderr",
     "output_type": "stream",
     "text": [
      "WARNING: An illegal reflective access operation has occurred\n",
      "WARNING: Illegal reflective access by org.apache.spark.unsafe.Platform (file:/Users/apavigli/opt/anaconda3/lib/python3.9/site-packages/pyspark/jars/spark-unsafe_2.12-3.2.1.jar) to constructor java.nio.DirectByteBuffer(long,int)\n",
      "WARNING: Please consider reporting this to the maintainers of org.apache.spark.unsafe.Platform\n",
      "WARNING: Use --illegal-access=warn to enable warnings of further illegal reflective access operations\n",
      "WARNING: All illegal access operations will be denied in a future release\n",
      "Using Spark's default log4j profile: org/apache/spark/log4j-defaults.properties\n",
      "Setting default log level to \"WARN\".\n",
      "To adjust logging level use sc.setLogLevel(newLevel). For SparkR, use setLogLevel(newLevel).\n",
      "23/06/21 15:42:58 WARN NativeCodeLoader: Unable to load native-hadoop library for your platform... using builtin-java classes where applicable\n",
      "23/06/21 15:42:58 WARN Utils: Service 'SparkUI' could not bind on port 4040. Attempting port 4041.\n",
      "23/06/21 15:42:58 WARN Utils: Service 'SparkUI' could not bind on port 4041. Attempting port 4042.\n",
      "23/06/21 15:42:58 WARN Utils: Service 'SparkUI' could not bind on port 4042. Attempting port 4043.\n"
     ]
    },
    {
     "data": {
      "text/html": [
       "\n",
       "            <div>\n",
       "                <p><b>SparkSession - in-memory</b></p>\n",
       "                \n",
       "        <div>\n",
       "            <p><b>SparkContext</b></p>\n",
       "\n",
       "            <p><a href=\"http://192.168.0.80:4043\">Spark UI</a></p>\n",
       "\n",
       "            <dl>\n",
       "              <dt>Version</dt>\n",
       "                <dd><code>v3.2.1</code></dd>\n",
       "              <dt>Master</dt>\n",
       "                <dd><code>local[*]</code></dd>\n",
       "              <dt>AppName</dt>\n",
       "                <dd><code>pyspark-shell</code></dd>\n",
       "            </dl>\n",
       "        </div>\n",
       "        \n",
       "            </div>\n",
       "        "
      ],
      "text/plain": [
       "<pyspark.sql.session.SparkSession at 0x7f9b2b1bbd90>"
      ]
     },
     "execution_count": 2,
     "metadata": {},
     "output_type": "execute_result"
    }
   ],
   "source": [
    "#Create a spark session\n",
    "spark = SparkSession.builder.master(\"local[*]\").getOrCreate()\n",
    "\n",
    "spark"
   ]
  },
  {
   "cell_type": "markdown",
   "id": "e72c8b4d",
   "metadata": {},
   "source": [
    "<a id='section3'></a>"
   ]
  },
  {
   "cell_type": "markdown",
   "id": "eab03613-f6d3-4600-9a85-feec339e88ed",
   "metadata": {
    "tags": []
   },
   "source": [
    "## Load Dataset using Spark DataFrame"
   ]
  },
  {
   "cell_type": "code",
   "execution_count": 3,
   "id": "b288682d-9774-4062-9dae-d1b9f196a0e6",
   "metadata": {},
   "outputs": [
    {
     "data": {
      "text/plain": [
       "['duplicates.csv', 'original.csv']"
      ]
     },
     "execution_count": 3,
     "metadata": {},
     "output_type": "execute_result"
    }
   ],
   "source": [
    "os.listdir('input')"
   ]
  },
  {
   "cell_type": "code",
   "execution_count": 4,
   "id": "52cf0858-6857-4e53-aa3d-6304a76a7b88",
   "metadata": {},
   "outputs": [
    {
     "name": "stdout",
     "output_type": "stream",
     "text": [
      "+---+----------+----------+------+-------------+--------------------+---------+----------+-----------+\n",
      "| id|first_name| last_name|gender|         City|            JobTitle|   Salary|  Latitude|  Longitude|\n",
      "+---+----------+----------+------+-------------+--------------------+---------+----------+-----------+\n",
      "|  1|   Melinde| Shilburne|Female|    Nowa Ruda| Assistant Professor|$57438.18|50.5774075| 16.4967184|\n",
      "|  2|  Kimberly|Von Welden|Female|       Bulgan|       Programmer II|$62846.60|48.8231572|103.5218199|\n",
      "|  3|    Alvera|  Di Boldi|Female|         null|                null|$57576.52|39.9947462|116.3397725|\n",
      "|  4|   Shannon| O'Griffin|  Male|Divnomorskoye|Budget/Accounting...|$61489.23|44.5047212| 38.1300171|\n",
      "|  5|  Sherwood|   Macieja|  Male|    Mytishchi|            VP Sales|$63863.09|      null| 37.6489954|\n",
      "+---+----------+----------+------+-------------+--------------------+---------+----------+-----------+\n",
      "only showing top 5 rows\n",
      "\n"
     ]
    }
   ],
   "source": [
    "directory = r'input/original.csv'\n",
    "\n",
    "#Read csv file using PySpark\n",
    "df = spark.read.format(\"csv\").option(\"header\", \"true\").load(directory)\n",
    "\n",
    "#Show first five lines\n",
    "df.show(5)"
   ]
  },
  {
   "cell_type": "code",
   "execution_count": 5,
   "id": "bc5fa59e-d2a0-406b-a879-eb42dea96fb9",
   "metadata": {},
   "outputs": [
    {
     "data": {
      "text/plain": [
       "[('id', 'string'),\n",
       " ('first_name', 'string'),\n",
       " ('last_name', 'string'),\n",
       " ('gender', 'string'),\n",
       " ('City', 'string'),\n",
       " ('JobTitle', 'string'),\n",
       " ('Salary', 'string'),\n",
       " ('Latitude', 'string'),\n",
       " ('Longitude', 'string')]"
      ]
     },
     "execution_count": 5,
     "metadata": {},
     "output_type": "execute_result"
    }
   ],
   "source": [
    "#Check data types\n",
    "df.dtypes"
   ]
  },
  {
   "cell_type": "markdown",
   "id": "a9aa1d1e-3a6f-4ac1-8cff-9aa550e6ebba",
   "metadata": {
    "tags": []
   },
   "source": [
    "### Define a new schema (changing datatypes)"
   ]
  },
  {
   "cell_type": "code",
   "execution_count": 6,
   "id": "8d9543e0-7fdd-4ec2-8a64-66f263e70317",
   "metadata": {},
   "outputs": [],
   "source": [
    "#Create a Schema\n",
    "schema = StructType([\n",
    "    StructField('id', IntegerType()),\n",
    "    StructField('first_name', StringType()),\n",
    "    StructField('last_name', StringType()),\n",
    "    StructField('gender', StringType()),\n",
    "    StructField('City', StringType()),\n",
    "    StructField('JobTitle', StringType()),\n",
    "    StructField('Salary', StringType()),\n",
    "    StructField('Latitude', FloatType()),\n",
    "    StructField('Longitude', FloatType())\n",
    "])"
   ]
  },
  {
   "cell_type": "code",
   "execution_count": 7,
   "id": "3f6cefac-24c6-49c5-bddf-2e789dd7a82f",
   "metadata": {},
   "outputs": [
    {
     "name": "stdout",
     "output_type": "stream",
     "text": [
      "+---+----------+----------+------+-------------+--------------------+---------+---------+----------+\n",
      "| id|first_name| last_name|gender|         City|            JobTitle|   Salary| Latitude| Longitude|\n",
      "+---+----------+----------+------+-------------+--------------------+---------+---------+----------+\n",
      "|  1|   Melinde| Shilburne|Female|    Nowa Ruda| Assistant Professor|$57438.18|50.577408| 16.496717|\n",
      "|  2|  Kimberly|Von Welden|Female|       Bulgan|       Programmer II|$62846.60| 48.82316| 103.52182|\n",
      "|  3|    Alvera|  Di Boldi|Female|         null|                null|$57576.52|39.994747|116.339775|\n",
      "|  4|   Shannon| O'Griffin|  Male|Divnomorskoye|Budget/Accounting...|$61489.23|44.504723| 38.130016|\n",
      "|  5|  Sherwood|   Macieja|  Male|    Mytishchi|            VP Sales|$63863.09|     null| 37.648994|\n",
      "+---+----------+----------+------+-------------+--------------------+---------+---------+----------+\n",
      "only showing top 5 rows\n",
      "\n"
     ]
    }
   ],
   "source": [
    "#Load Schema on dataframe from csv\n",
    "df = spark.read.csv(\"input/original.csv\", header=True, schema=schema)\n",
    "df.show(5)"
   ]
  },
  {
   "cell_type": "code",
   "execution_count": 8,
   "id": "25c70c63-bfb4-4c00-a819-18e517a4746a",
   "metadata": {},
   "outputs": [
    {
     "data": {
      "text/plain": [
       "[('id', 'int'),\n",
       " ('first_name', 'string'),\n",
       " ('last_name', 'string'),\n",
       " ('gender', 'string'),\n",
       " ('City', 'string'),\n",
       " ('JobTitle', 'string'),\n",
       " ('Salary', 'string'),\n",
       " ('Latitude', 'float'),\n",
       " ('Longitude', 'float')]"
      ]
     },
     "execution_count": 8,
     "metadata": {},
     "output_type": "execute_result"
    }
   ],
   "source": [
    "#Datatypes are different now\n",
    "df.dtypes"
   ]
  },
  {
   "cell_type": "markdown",
   "id": "7f3c696c",
   "metadata": {},
   "source": [
    "<br>\n",
    "\n",
    "[Back to Table of Contents](#tablecontents)"
   ]
  },
  {
   "cell_type": "markdown",
   "id": "d52750a0",
   "metadata": {},
   "source": [
    "<a id='section4'></a>"
   ]
  },
  {
   "cell_type": "markdown",
   "id": "b2370400-519b-49b2-a3ff-22c42911ed72",
   "metadata": {
    "tags": []
   },
   "source": [
    "## Inspecting the DataFrame"
   ]
  },
  {
   "cell_type": "code",
   "execution_count": 9,
   "id": "8b758130-d63b-47b3-ae88-0ff419b8caea",
   "metadata": {},
   "outputs": [
    {
     "name": "stdout",
     "output_type": "stream",
     "text": [
      "+---+----------+----------+------+-------------+--------------------+---------+---------+----------+\n",
      "| id|first_name| last_name|gender|         City|            JobTitle|   Salary| Latitude| Longitude|\n",
      "+---+----------+----------+------+-------------+--------------------+---------+---------+----------+\n",
      "|  1|   Melinde| Shilburne|Female|    Nowa Ruda| Assistant Professor|$57438.18|50.577408| 16.496717|\n",
      "|  2|  Kimberly|Von Welden|Female|       Bulgan|       Programmer II|$62846.60| 48.82316| 103.52182|\n",
      "|  3|    Alvera|  Di Boldi|Female|         null|                null|$57576.52|39.994747|116.339775|\n",
      "|  4|   Shannon| O'Griffin|  Male|Divnomorskoye|Budget/Accounting...|$61489.23|44.504723| 38.130016|\n",
      "|  5|  Sherwood|   Macieja|  Male|    Mytishchi|            VP Sales|$63863.09|     null| 37.648994|\n",
      "+---+----------+----------+------+-------------+--------------------+---------+---------+----------+\n",
      "only showing top 5 rows\n",
      "\n"
     ]
    }
   ],
   "source": [
    "df.show(5)"
   ]
  },
  {
   "cell_type": "code",
   "execution_count": 10,
   "id": "64830058-01ef-418f-bde9-2ffdfd9ea6e3",
   "metadata": {},
   "outputs": [
    {
     "data": {
      "text/plain": [
       "Row(id=1, first_name='Melinde', last_name='Shilburne', gender='Female', City='Nowa Ruda', JobTitle='Assistant Professor', Salary='$57438.18', Latitude=50.57740783691406, Longitude=16.49671745300293)"
      ]
     },
     "execution_count": 10,
     "metadata": {},
     "output_type": "execute_result"
    }
   ],
   "source": [
    "#See the first row\n",
    "df.first()"
   ]
  },
  {
   "cell_type": "code",
   "execution_count": 11,
   "id": "c781447a-078f-42e1-80d9-1e8fc01657ce",
   "metadata": {},
   "outputs": [
    {
     "data": {
      "text/plain": [
       "['id',\n",
       " 'first_name',\n",
       " 'last_name',\n",
       " 'gender',\n",
       " 'City',\n",
       " 'JobTitle',\n",
       " 'Salary',\n",
       " 'Latitude',\n",
       " 'Longitude']"
      ]
     },
     "execution_count": 11,
     "metadata": {},
     "output_type": "execute_result"
    }
   ],
   "source": [
    "#As for in pandas, this is the method to see all column names in order\n",
    "df.columns"
   ]
  },
  {
   "cell_type": "code",
   "execution_count": 12,
   "id": "47e4a56a-8bdb-40d6-8309-27df5c0e1c01",
   "metadata": {},
   "outputs": [
    {
     "data": {
      "text/plain": [
       "1000"
      ]
     },
     "execution_count": 12,
     "metadata": {},
     "output_type": "execute_result"
    }
   ],
   "source": [
    "#Count total number of rows in a dataframe\n",
    "df.count()"
   ]
  },
  {
   "cell_type": "code",
   "execution_count": 13,
   "id": "b59c2b60-560d-4823-ba17-6d0c7e044ac6",
   "metadata": {},
   "outputs": [
    {
     "data": {
      "text/plain": [
       "1000"
      ]
     },
     "execution_count": 13,
     "metadata": {},
     "output_type": "execute_result"
    }
   ],
   "source": [
    "#Count distinct values in a dataframe (unique rows) / Quick way to seek for duplicates\n",
    "df.distinct().count()"
   ]
  },
  {
   "cell_type": "code",
   "execution_count": 14,
   "id": "0c0e7a74-825c-4654-99ce-f5c8fe9aed6c",
   "metadata": {},
   "outputs": [
    {
     "name": "stdout",
     "output_type": "stream",
     "text": [
      "No Duplicates.\n"
     ]
    }
   ],
   "source": [
    "#Do it with a function\n",
    "def spark_duplicates(df):\n",
    "    all_rows = df.count()\n",
    "    distinct = df.distinct().count()\n",
    "    x = all_rows/distinct\n",
    "    if x == 1:\n",
    "        print('No Duplicates.')\n",
    "    else:\n",
    "        print(f'{all_rows-distinct} rows are duplicate.')\n",
    "    return\n",
    "\n",
    "spark_duplicates(df)"
   ]
  },
  {
   "cell_type": "markdown",
   "id": "34f55b5c-a706-4904-9420-3bde55424c98",
   "metadata": {},
   "source": [
    "### Describe method"
   ]
  },
  {
   "cell_type": "code",
   "execution_count": 15,
   "id": "6d30f99c-089a-4821-ba9e-ac6c95f4208c",
   "metadata": {},
   "outputs": [
    {
     "name": "stdout",
     "output_type": "stream",
     "text": [
      "+-------+-----------------+----------+---------+------+-------------------+-------------------+---------+------------------+-----------------+\n",
      "|summary|               id|first_name|last_name|gender|               City|           JobTitle|   Salary|          Latitude|        Longitude|\n",
      "+-------+-----------------+----------+---------+------+-------------------+-------------------+---------+------------------+-----------------+\n",
      "|  count|             1000|      1000|     1000|  1000|                999|                998|     1000|               999|             1000|\n",
      "|   mean|            500.5|      null|     null|  null|               null|               null|     null| 25.43151724702484|43.33756460386515|\n",
      "| stddev|288.8194360957494|      null|     null|  null|               null|               null|     null|24.579082550156635| 69.4206453674681|\n",
      "|    min|                1|   Abagail|    Abbay|Female|             Abéché|Account Coordinator|$10101.92|         -54.28115|       -123.04196|\n",
      "|    max|             1000|    Zulema| de Marco|  Male|‘Aşīrah al Qiblīyah|   Web Developer IV|$99948.28|          69.63186|        175.28227|\n",
      "+-------+-----------------+----------+---------+------+-------------------+-------------------+---------+------------------+-----------------+\n",
      "\n"
     ]
    }
   ],
   "source": [
    "#Show general stats of a dataframe\n",
    "df.describe().show()"
   ]
  },
  {
   "cell_type": "code",
   "execution_count": 16,
   "id": "d12873f3-6bdb-43de-a061-29bf008dce43",
   "metadata": {},
   "outputs": [
    {
     "name": "stdout",
     "output_type": "stream",
     "text": [
      "+-------+---------+\n",
      "|summary|   Salary|\n",
      "+-------+---------+\n",
      "|  count|     1000|\n",
      "|   mean|     null|\n",
      "| stddev|     null|\n",
      "|    min|$10101.92|\n",
      "|    max|$99948.28|\n",
      "+-------+---------+\n",
      "\n"
     ]
    }
   ],
   "source": [
    "#Descriptive Statistics for a numerical column:\n",
    "df.describe(['Salary']).show()"
   ]
  },
  {
   "cell_type": "code",
   "execution_count": 17,
   "id": "9772185d-c5f3-4bc4-b7bd-7b3bf49f439c",
   "metadata": {},
   "outputs": [
    {
     "name": "stdout",
     "output_type": "stream",
     "text": [
      "+-------+------------------+\n",
      "|summary|          Latitude|\n",
      "+-------+------------------+\n",
      "|  count|               999|\n",
      "|   mean| 25.43151724702484|\n",
      "| stddev|24.579082550156635|\n",
      "|    min|         -54.28115|\n",
      "|    max|          69.63186|\n",
      "+-------+------------------+\n",
      "\n",
      "+-------+-----------------+\n",
      "|summary|        Longitude|\n",
      "+-------+-----------------+\n",
      "|  count|             1000|\n",
      "|   mean|43.33756460386515|\n",
      "| stddev| 69.4206453674681|\n",
      "|    min|       -123.04196|\n",
      "|    max|        175.28227|\n",
      "+-------+-----------------+\n",
      "\n"
     ]
    }
   ],
   "source": [
    "#Do it with a function\n",
    "def sparkdescribe(df, col):\n",
    "    return df.describe([col]).show()\n",
    "\n",
    "for i in ['Latitude', 'Longitude']:\n",
    "    sparkdescribe(df, i)"
   ]
  },
  {
   "cell_type": "markdown",
   "id": "15a10d90",
   "metadata": {},
   "source": [
    "<br>\n",
    "\n",
    "[Back to Table of Contents](#tablecontents)"
   ]
  },
  {
   "cell_type": "markdown",
   "id": "51664887",
   "metadata": {},
   "source": [
    "<a id='section5'></a>"
   ]
  },
  {
   "cell_type": "markdown",
   "id": "0fd5dcd9-dab5-4be3-b16e-12c6998b4694",
   "metadata": {
    "tags": []
   },
   "source": [
    "## Dealing with Duplicates"
   ]
  },
  {
   "cell_type": "code",
   "execution_count": 18,
   "id": "71300b09-d394-487f-83f6-5f609e5c83f9",
   "metadata": {},
   "outputs": [
    {
     "name": "stdout",
     "output_type": "stream",
     "text": [
      "+---+----------+----------+------+-------------+--------------------+---------+---------+----------+\n",
      "| id|first_name| last_name|gender|         City|            JobTitle|   Salary| Latitude| Longitude|\n",
      "+---+----------+----------+------+-------------+--------------------+---------+---------+----------+\n",
      "|  1|   Melinde| Shilburne|Female|    Nowa Ruda| Assistant Professor|$57438.18|50.577408| 16.496717|\n",
      "|  2|  Kimberly|Von Welden|Female|       Bulgan|       Programmer II|$62846.60| 48.82316| 103.52182|\n",
      "|  3|    Alvera|  Di Boldi|Female|         null|                null|$57576.52|39.994747|116.339775|\n",
      "|  4|   Shannon| O'Griffin|  Male|Divnomorskoye|Budget/Accounting...|$61489.23|44.504723| 38.130016|\n",
      "|  5|  Sherwood|   Macieja|  Male|    Mytishchi|            VP Sales|$63863.09|     null| 37.648994|\n",
      "+---+----------+----------+------+-------------+--------------------+---------+---------+----------+\n",
      "only showing top 5 rows\n",
      "\n"
     ]
    }
   ],
   "source": [
    "#See dataframe with duplicates\n",
    "df_dup = spark.read.csv(\"input/duplicates.csv\", header=True, schema=schema)\n",
    "df_dup.show(5)"
   ]
  },
  {
   "cell_type": "code",
   "execution_count": 19,
   "id": "71b9ff8d-9567-45eb-89fc-7da7157d1994",
   "metadata": {},
   "outputs": [
    {
     "name": "stdout",
     "output_type": "stream",
     "text": [
      "49\n",
      "52\n"
     ]
    }
   ],
   "source": [
    "print(df_dup.distinct().count()) #Print Unique Values\n",
    "print(df_dup.count())            #Print All Values"
   ]
  },
  {
   "cell_type": "code",
   "execution_count": 20,
   "id": "7e368cde-c27a-4666-865e-7fc26d75a90e",
   "metadata": {},
   "outputs": [
    {
     "name": "stdout",
     "output_type": "stream",
     "text": [
      "3 rows are duplicate.\n"
     ]
    }
   ],
   "source": [
    "#By using our previous function\n",
    "spark_duplicates(df_dup)"
   ]
  },
  {
   "cell_type": "code",
   "execution_count": 21,
   "id": "cb36472f-5d19-41c9-8e07-c52df46dcb2a",
   "metadata": {},
   "outputs": [
    {
     "name": "stdout",
     "output_type": "stream",
     "text": [
      "+---+-----+\n",
      "| id|count|\n",
      "+---+-----+\n",
      "| 26|    2|\n",
      "|  1|    2|\n",
      "| 16|    2|\n",
      "+---+-----+\n",
      "\n"
     ]
    }
   ],
   "source": [
    "#We know there are duplicate rows, it will be sufficient to use groupby and count.\n",
    "df_dup.groupBy('id').count().filter('count > 1').show()"
   ]
  },
  {
   "cell_type": "code",
   "execution_count": 22,
   "id": "a78fc2d5-d728-496b-a114-5f0a5be460b1",
   "metadata": {},
   "outputs": [
    {
     "name": "stdout",
     "output_type": "stream",
     "text": [
      "Number of unique rows: 49 on total 49 rows.\n"
     ]
    }
   ],
   "source": [
    "#Remove Duplicates\n",
    "df_no_dupl = df_dup.dropDuplicates()\n",
    "print(f'Number of unique rows: {df_no_dupl.distinct().count()} on total {df_no_dupl.count()} rows.')"
   ]
  },
  {
   "cell_type": "markdown",
   "id": "cfcaa8d6",
   "metadata": {},
   "source": [
    "<br>\n",
    "\n",
    "[Back to Table of Contents](#tablecontents)"
   ]
  },
  {
   "cell_type": "markdown",
   "id": "9a2e132d",
   "metadata": {},
   "source": [
    "<a id='section6'></a>"
   ]
  },
  {
   "cell_type": "markdown",
   "id": "00ab79ec-4939-4d7a-97f4-ea9fc033dc5a",
   "metadata": {
    "tags": []
   },
   "source": [
    "## Dealing with NaN values"
   ]
  },
  {
   "cell_type": "code",
   "execution_count": 23,
   "id": "0e94ca89-2583-42dd-9686-49d3792294c5",
   "metadata": {},
   "outputs": [
    {
     "name": "stdout",
     "output_type": "stream",
     "text": [
      "1 NaN on City\n",
      "+---+----------+---------+------+----+--------+---------+---------+----------+\n",
      "| id|first_name|last_name|gender|City|JobTitle|   Salary| Latitude| Longitude|\n",
      "+---+----------+---------+------+----+--------+---------+---------+----------+\n",
      "|  3|    Alvera| Di Boldi|Female|null|    null|$57576.52|39.994747|116.339775|\n",
      "+---+----------+---------+------+----+--------+---------+---------+----------+\n",
      "\n",
      "2 NaN on JobTitle\n",
      "+---+----------+---------+------+------+--------+---------+---------+----------+\n",
      "| id|first_name|last_name|gender|  City|JobTitle|   Salary| Latitude| Longitude|\n",
      "+---+----------+---------+------+------+--------+---------+---------+----------+\n",
      "|  3|    Alvera| Di Boldi|Female|  null|    null|$57576.52|39.994747|116.339775|\n",
      "|  7|     Masha|   Divers|Female|Dachun|    null|$25090.87|24.879416|118.930115|\n",
      "+---+----------+---------+------+------+--------+---------+---------+----------+\n",
      "\n",
      "1 NaN on Latitude\n",
      "+---+----------+---------+------+---------+--------+---------+--------+---------+\n",
      "| id|first_name|last_name|gender|     City|JobTitle|   Salary|Latitude|Longitude|\n",
      "+---+----------+---------+------+---------+--------+---------+--------+---------+\n",
      "|  5|  Sherwood|  Macieja|  Male|Mytishchi|VP Sales|$63863.09|    null|37.648994|\n",
      "+---+----------+---------+------+---------+--------+---------+--------+---------+\n",
      "\n"
     ]
    }
   ],
   "source": [
    "#Show where there are null values:\n",
    "from pyspark.sql.functions import col                               # Call column names in loops\n",
    "for col_name in df.columns:\n",
    "    number_null = df.filter(col(col_name).isNull()).count()         # Calculate count of null values for column\n",
    "    if number_null > 0:\n",
    "        print(f'{number_null} NaN on {col_name}')                   # Specify column where NaN is found\n",
    "        df.filter(col(col_name).isNull()).show(5)                   # Print only sliced df with NaN values for specific column"
   ]
  },
  {
   "cell_type": "markdown",
   "id": "85aecd6b-5184-4158-a8f0-8ec6ba9e8fef",
   "metadata": {
    "tags": []
   },
   "source": [
    "### Case 1: Dropping NaN"
   ]
  },
  {
   "cell_type": "code",
   "execution_count": 24,
   "id": "9343e245-7486-44f5-91b5-74d7064fead3",
   "metadata": {},
   "outputs": [
    {
     "name": "stdout",
     "output_type": "stream",
     "text": [
      "+---+----------+----------+------+---------------+--------------------+---------+---------+----------+\n",
      "| id|first_name| last_name|gender|           City|            JobTitle|   Salary| Latitude| Longitude|\n",
      "+---+----------+----------+------+---------------+--------------------+---------+---------+----------+\n",
      "|  1|   Melinde| Shilburne|Female|      Nowa Ruda| Assistant Professor|$57438.18|50.577408| 16.496717|\n",
      "|  2|  Kimberly|Von Welden|Female|         Bulgan|       Programmer II|$62846.60| 48.82316| 103.52182|\n",
      "|  4|   Shannon| O'Griffin|  Male|  Divnomorskoye|Budget/Accounting...|$61489.23|44.504723| 38.130016|\n",
      "|  5|  Sherwood|   Macieja|  Male|      Mytishchi|            VP Sales|$63863.09|     null| 37.648994|\n",
      "|  6|     Maris|      Folk|Female|Kinsealy-Drinan|      Civil Engineer|$30101.16|53.426613|-6.1644998|\n",
      "+---+----------+----------+------+---------------+--------------------+---------+---------+----------+\n",
      "only showing top 5 rows\n",
      "\n"
     ]
    }
   ],
   "source": [
    "# Drop rows where JobTitle isNull\n",
    "dfx = df.filter(col('JobTitle').isNotNull())\n",
    "dfx.show(5)"
   ]
  },
  {
   "cell_type": "markdown",
   "id": "08c2990a-8529-4b49-9870-7503b631328c",
   "metadata": {
    "tags": []
   },
   "source": [
    "### Case 2: Replace NaN with other values"
   ]
  },
  {
   "cell_type": "code",
   "execution_count": 25,
   "id": "649f5dd1-fbd3-4fa4-8abb-d3d23044ebf0",
   "metadata": {},
   "outputs": [
    {
     "name": "stdout",
     "output_type": "stream",
     "text": [
      "+---+----------+---------+------+----+--------+---------+---------+----------+---------+\n",
      "| id|first_name|last_name|gender|City|JobTitle|   Salary| Latitude| Longitude|ClearCity|\n",
      "+---+----------+---------+------+----+--------+---------+---------+----------+---------+\n",
      "|  3|    Alvera| Di Boldi|Female|null|    null|$57576.52|39.994747|116.339775|  Unknown|\n",
      "+---+----------+---------+------+----+--------+---------+---------+----------+---------+\n",
      "\n"
     ]
    }
   ],
   "source": [
    "# Replace NULL in city with \"Unknown\"\n",
    "dfx = df.withColumn(\"ClearCity\", when(dfx.City.isNull(), \"Unknown\").otherwise(dfx.City))\n",
    "dfx.filter(col('ClearCity')==\"Unknown\").show()"
   ]
  },
  {
   "cell_type": "markdown",
   "id": "2189c0b6",
   "metadata": {},
   "source": [
    "<br>\n",
    "\n",
    "[Back to Table of Contents](#tablecontents)"
   ]
  },
  {
   "cell_type": "markdown",
   "id": "e6abba50",
   "metadata": {},
   "source": [
    "<a id='section7'></a>"
   ]
  },
  {
   "cell_type": "markdown",
   "id": "972162a4-e0a9-423f-a0e0-4d3971b32154",
   "metadata": {},
   "source": [
    "## Select and Filter a Dataframe"
   ]
  },
  {
   "cell_type": "markdown",
   "id": "d5d9193a-d063-4158-8288-629d6356cb72",
   "metadata": {},
   "source": [
    "- `select` method works on df columns\n",
    "- `filter` method works on df rows based on a condition"
   ]
  },
  {
   "cell_type": "code",
   "execution_count": 26,
   "id": "c83662a2-9989-4b90-b368-5ea9cba02a72",
   "metadata": {},
   "outputs": [
    {
     "name": "stdout",
     "output_type": "stream",
     "text": [
      "['id', 'first_name', 'last_name', 'gender', 'City', 'JobTitle', 'Salary', 'Latitude', 'Longitude']\n"
     ]
    }
   ],
   "source": [
    "print(df.columns)"
   ]
  },
  {
   "cell_type": "code",
   "execution_count": 27,
   "id": "60c36c9e-8f3d-4789-85aa-c3e73aa34c21",
   "metadata": {},
   "outputs": [
    {
     "name": "stdout",
     "output_type": "stream",
     "text": [
      "+----------+----------+---------+\n",
      "|first_name| last_name|   salary|\n",
      "+----------+----------+---------+\n",
      "|   Melinde| Shilburne|$57438.18|\n",
      "|  Kimberly|Von Welden|$62846.60|\n",
      "|    Alvera|  Di Boldi|$57576.52|\n",
      "|   Shannon| O'Griffin|$61489.23|\n",
      "|  Sherwood|   Macieja|$63863.09|\n",
      "+----------+----------+---------+\n",
      "only showing top 5 rows\n",
      "\n"
     ]
    }
   ],
   "source": [
    "#Select only first name, last name and salary\n",
    "df.select(\"first_name\", \"last_name\", \"salary\").show(5)"
   ]
  },
  {
   "cell_type": "code",
   "execution_count": 28,
   "id": "a879847a-60bb-4e09-9343-e343f93dbb0a",
   "metadata": {},
   "outputs": [
    {
     "name": "stdout",
     "output_type": "stream",
     "text": [
      "+---+----------+---------+------+------+--------+---------+---------+----------+\n",
      "| id|first_name|last_name|gender|  City|JobTitle|   Salary| Latitude| Longitude|\n",
      "+---+----------+---------+------+------+--------+---------+---------+----------+\n",
      "|  7|     Masha|   Divers|Female|Dachun|    null|$25090.87|24.879416|118.930115|\n",
      "+---+----------+---------+------+------+--------+---------+---------+----------+\n",
      "\n"
     ]
    }
   ],
   "source": [
    "#Filter a dataframe based on first name\n",
    "df.filter(col(\"first_name\") == 'Masha').show()"
   ]
  },
  {
   "cell_type": "code",
   "execution_count": 29,
   "id": "0dfd381f-79c6-4380-9f0f-33862a5f7a08",
   "metadata": {},
   "outputs": [
    {
     "name": "stdout",
     "output_type": "stream",
     "text": [
      "+---+----------+---------+------+----------+--------------------+---------+---------+-----------+\n",
      "| id|first_name|last_name|gender|      City|            JobTitle|   Salary| Latitude|  Longitude|\n",
      "+---+----------+---------+------+----------+--------------------+---------+---------+-----------+\n",
      "|  7|     Masha|   Divers|Female|    Dachun|                null|$25090.87|24.879416| 118.930115|\n",
      "| 80|     Kassi|  Stoakes|Female|    Pingle|     Web Designer II|$91516.53|24.633362|   110.6433|\n",
      "|174|     Roman|   Keates|  Male|La Soledad|  Analyst Programmer|$25810.06|24.762173|-104.927895|\n",
      "|242|     Sunny|   Weddup|Female|     Sanli|   Marketing Manager|$73174.19| 24.84662|  116.74609|\n",
      "|287|    Alexei|  Harriot|  Male| Shangjing|    Junior Executive|$55711.38|24.390594|  114.52239|\n",
      "|385|  Harmonie| Portlock|Female|San Isidro|    Graphic Designer|$83451.74|25.723244| -100.36714|\n",
      "|573|    Ulrica|    Rosas|Female|     Jiupu|           Recruiter|$35165.42|25.748009|  104.51807|\n",
      "|623|     Emlyn|  Carnegy|  Male|      Aizi| Executive Secretary|$69273.32|24.622425|  113.99676|\n",
      "|662|       Gui|  Liptrod|Female| Badarganj| Structural Engineer|$85368.52|25.683344|   89.03705|\n",
      "|722|    Alonso|    Gueny|  Male|    Gaopai|Administrative Of...|$14528.73|25.487867|  115.61443|\n",
      "|729|  Sherwood|   Misson|  Male|  Guanyang|Payment Adjustmen...|$56567.31|25.489384|  111.16085|\n",
      "|793|  Vittorio|  Howarth|  Male|   Longtan|       Geologist III|$21357.30|25.075123|  117.01753|\n",
      "|932|    Buiron|  Hulland|  Male|   Handaqi|   Financial Advisor|$37728.68|25.461546|  118.31969|\n",
      "+---+----------+---------+------+----------+--------------------+---------+---------+-----------+\n",
      "\n"
     ]
    }
   ],
   "source": [
    "#Use a double filter with AND condition\n",
    "df.filter((col(\"Latitude\") > 24) & (col(\"Latitude\") < 26)).show()"
   ]
  },
  {
   "cell_type": "code",
   "execution_count": 30,
   "id": "e5ebd168-9d72-47e7-a1b6-1f4376248457",
   "metadata": {},
   "outputs": [
    {
     "name": "stdout",
     "output_type": "stream",
     "text": [
      "+---+----------+----------+------+--------------------+--------------------+---------+----------+----------+\n",
      "| id|first_name| last_name|gender|                City|            JobTitle|   Salary|  Latitude| Longitude|\n",
      "+---+----------+----------+------+--------------------+--------------------+---------+----------+----------+\n",
      "| 10|      Bran|   Trahear|  Male|            Arbeláez|Mechanical System...|$68098.42|  4.272793|-74.416016|\n",
      "| 11|    Kylynn|   Lockart|Female|            El Cardo|Nuclear Power Eng...|$13604.63|     -5.85| -79.88333|\n",
      "| 19|  Tiffanie|  Pattison|Female|         Jabungsisir|Senior Financial ...|$91925.08|-7.7232566| 113.46868|\n",
      "| 35|      Base| Summerlad|  Male|         Changuinola|Business Systems ...|$53137.80|  9.448871| -82.48518|\n",
      "| 37|     Nicko|     Frays|  Male|              Caxias|      Health Coach I|$99786.40|-4.8654137|   -43.362|\n",
      "| 41|   Deirdre|Codrington|Female|         Buena Vista| Software Engineer I|$85861.33|-17.458666| -63.66915|\n",
      "| 48|    Farlee|    Callen|  Male|         Tanjungluar|Structural Analys...|$16866.41| -8.776544| 116.50937|\n",
      "| 50|    Joleen|   Kermeen|Female|        Pointe-Noire|     Statistician II|$31536.09| -4.769162| 11.866362|\n",
      "| 51|      Devi|Brownsmith|Female|      Mariano Moreno|Structural Analys...|$11376.58| -34.70618|-58.312477|\n",
      "| 59|      Lusa|     Kowal|Female|            Registro|   Financial Advisor|$43176.23|-24.500229| -47.84481|\n",
      "| 60|       Rex| Sapsforde|  Male|            Tartagal|Budget/Accounting...|$42001.91|-31.453413|-64.208916|\n",
      "| 61|      Adam|   Seagood|  Male|         Krajan Siki|  Research Associate|$28660.11|   -8.1831|  111.5359|\n",
      "| 65|    Faydra|  Ashpital|Female|             Kakamas|Budget/Accounting...|$44648.27|-28.672731| 20.428444|\n",
      "| 66|     Trish|   Yankeev|Female|             Monkayo|Assistant Media P...|$93014.49| 7.8394837| 126.05028|\n",
      "| 67|    Zorine|    Dradey|Female|             Kembang| Marketing Assistant|$88665.42| -6.471274| 110.81711|\n",
      "| 77|     Randa| Yurivtsev|Female|           Kandangan|Physical Therapy ...|$63633.33|-2.7217612|115.200775|\n",
      "| 78|     Perri|     Brett|Female|             Klukeng|Software Test Eng...|$98439.49|   -8.3965|  123.0856|\n",
      "| 84|      Dael|    Bediss|  Male|   Chaloem Phra Kiat|      Civil Engineer|$54840.20| 9.9533825|  98.61117|\n",
      "| 88|    Carole|     Gavan|Female|            Rajapeni| Account Coordinator|$27026.70|   -7.2841|  108.2148|\n",
      "| 89|     Pablo|   Whytock|  Male|Villa Paula de Sa...|Mechanical System...|$94648.51|-32.884205|-68.799805|\n",
      "+---+----------+----------+------+--------------------+--------------------+---------+----------+----------+\n",
      "only showing top 20 rows\n",
      "\n"
     ]
    }
   ],
   "source": [
    "#Use a double filter with OR condition\n",
    "df.filter((col(\"Latitude\") < 10) | (col(\"Latitude\") > 120)).show()"
   ]
  },
  {
   "cell_type": "markdown",
   "id": "311b1bc4",
   "metadata": {},
   "source": [
    "<br>\n",
    "\n",
    "[Back to Table of Contents](#tablecontents)"
   ]
  },
  {
   "cell_type": "markdown",
   "id": "eb7144c5",
   "metadata": {},
   "source": [
    "<a id='section8'></a>"
   ]
  },
  {
   "cell_type": "markdown",
   "id": "d641e46a-cda5-47fb-95e9-9570215e1d9a",
   "metadata": {},
   "source": [
    "## Running SQL on a DataFrame"
   ]
  },
  {
   "cell_type": "code",
   "execution_count": 31,
   "id": "e4487439-074c-4e3d-9a20-922772ef57e3",
   "metadata": {},
   "outputs": [
    {
     "name": "stdout",
     "output_type": "stream",
     "text": [
      "+---+----------+----------+------+-------------+--------------------+---------+---------+----------+\n",
      "| id|first_name| last_name|gender|         City|            JobTitle|   Salary| Latitude| Longitude|\n",
      "+---+----------+----------+------+-------------+--------------------+---------+---------+----------+\n",
      "|  1|   Melinde| Shilburne|Female|    Nowa Ruda| Assistant Professor|$57438.18|50.577408| 16.496717|\n",
      "|  2|  Kimberly|Von Welden|Female|       Bulgan|       Programmer II|$62846.60| 48.82316| 103.52182|\n",
      "|  3|    Alvera|  Di Boldi|Female|         null|                null|$57576.52|39.994747|116.339775|\n",
      "|  4|   Shannon| O'Griffin|  Male|Divnomorskoye|Budget/Accounting...|$61489.23|44.504723| 38.130016|\n",
      "|  5|  Sherwood|   Macieja|  Male|    Mytishchi|            VP Sales|$63863.09|     null| 37.648994|\n",
      "+---+----------+----------+------+-------------+--------------------+---------+---------+----------+\n",
      "only showing top 5 rows\n",
      "\n"
     ]
    }
   ],
   "source": [
    "df.show(5)"
   ]
  },
  {
   "cell_type": "markdown",
   "id": "ebae6695-09c1-4235-9953-269a00afa02a",
   "metadata": {},
   "source": [
    "To run an SQL query on a dataframe, first we create a <b>temporary table</b>."
   ]
  },
  {
   "cell_type": "code",
   "execution_count": 32,
   "id": "cd7582b3-de2a-46dc-8366-82dc2027c910",
   "metadata": {},
   "outputs": [],
   "source": [
    "#Create a Temporary Table\n",
    "df.createOrReplaceTempView(\"original\")"
   ]
  },
  {
   "cell_type": "code",
   "execution_count": 33,
   "id": "83adbbd7-d721-479c-bf98-33ce17f8f986",
   "metadata": {},
   "outputs": [
    {
     "name": "stdout",
     "output_type": "stream",
     "text": [
      "+---+----------+----------+------+---------+-------------+---------+--------+---------+\n",
      "| id|first_name| last_name|gender|     City|     JobTitle|   Salary|Latitude|Longitude|\n",
      "+---+----------+----------+------+---------+-------------+---------+--------+---------+\n",
      "|  2|  Kimberly|Von Welden|Female|   Bulgan|Programmer II|$62846.60|48.82316|103.52182|\n",
      "|  5|  Sherwood|   Macieja|  Male|Mytishchi|     VP Sales|$63863.09|    null|37.648994|\n",
      "+---+----------+----------+------+---------+-------------+---------+--------+---------+\n",
      "\n"
     ]
    }
   ],
   "source": [
    "# Visualize a queried TABLE with WHERE condition\n",
    "query1 = spark.sql(\n",
    "    '''\n",
    "    select * from original\n",
    "    WHERE City='Bulgan' OR City='Mytishchi'\n",
    "    ''')\n",
    "query1.show()"
   ]
  },
  {
   "cell_type": "code",
   "execution_count": 34,
   "id": "95dca580-9f29-411b-98f0-5e375971248a",
   "metadata": {},
   "outputs": [
    {
     "name": "stdout",
     "output_type": "stream",
     "text": [
      "+-------------------+\n",
      "|          full_name|\n",
      "+-------------------+\n",
      "|  Melinde Shilburne|\n",
      "|Kimberly Von Welden|\n",
      "|    Alvera Di Boldi|\n",
      "|         Maris Folk|\n",
      "|       Masha Divers|\n",
      "+-------------------+\n",
      "only showing top 5 rows\n",
      "\n"
     ]
    }
   ],
   "source": [
    "# Use a query to concatenate two value columns into a new one\n",
    "query2 = spark.sql(\n",
    "    '''\n",
    "    SELECT concat(first_name, \" \", last_name) AS full_name\n",
    "    FROM original\n",
    "    WHERE gender='Female'\n",
    "    ''')\n",
    "query2.show(5)"
   ]
  },
  {
   "cell_type": "markdown",
   "id": "231a0620",
   "metadata": {},
   "source": [
    "<br>\n",
    "\n",
    "[Back to Table of Contents](#tablecontents)"
   ]
  },
  {
   "cell_type": "markdown",
   "id": "984c7c37",
   "metadata": {},
   "source": [
    "<a id='section9'></a>"
   ]
  },
  {
   "cell_type": "markdown",
   "id": "135b9906-a98d-440a-8d74-3b98266dc187",
   "metadata": {},
   "source": [
    "## Calculated Columns"
   ]
  },
  {
   "cell_type": "markdown",
   "id": "470865fe-68df-4f36-9689-03caae755d81",
   "metadata": {},
   "source": [
    "### Case 1. Numerical Variables"
   ]
  },
  {
   "cell_type": "markdown",
   "id": "344a7550-1721-496c-bc96-2bf73c2fe0d1",
   "metadata": {},
   "source": [
    "We can create calculations on numerical variables using operations."
   ]
  },
  {
   "cell_type": "code",
   "execution_count": 35,
   "id": "69f2f436-e496-4b36-bc6e-f0761b70dcba",
   "metadata": {},
   "outputs": [
    {
     "name": "stdout",
     "output_type": "stream",
     "text": [
      "+---+----------+----------+------+-------------+--------------------+---------+---------+----------+\n",
      "| id|first_name| last_name|gender|         City|            JobTitle|   Salary| Latitude| Longitude|\n",
      "+---+----------+----------+------+-------------+--------------------+---------+---------+----------+\n",
      "|  1|   Melinde| Shilburne|Female|    Nowa Ruda| Assistant Professor|$57438.18|50.577408| 16.496717|\n",
      "|  2|  Kimberly|Von Welden|Female|       Bulgan|       Programmer II|$62846.60| 48.82316| 103.52182|\n",
      "|  3|    Alvera|  Di Boldi|Female|         null|                null|$57576.52|39.994747|116.339775|\n",
      "|  4|   Shannon| O'Griffin|  Male|Divnomorskoye|Budget/Accounting...|$61489.23|44.504723| 38.130016|\n",
      "|  5|  Sherwood|   Macieja|  Male|    Mytishchi|            VP Sales|$63863.09|     null| 37.648994|\n",
      "+---+----------+----------+------+-------------+--------------------+---------+---------+----------+\n",
      "only showing top 5 rows\n",
      "\n"
     ]
    }
   ],
   "source": [
    "df.show(5)"
   ]
  },
  {
   "cell_type": "markdown",
   "id": "a9fc4e30-83ca-4764-85ea-adfefea42574",
   "metadata": {},
   "source": [
    "`Salary` should be a numerical variable but right now it is accounted as string"
   ]
  },
  {
   "cell_type": "code",
   "execution_count": 36,
   "id": "6638e75c-0b7b-4291-b891-27873f9b8d6c",
   "metadata": {},
   "outputs": [
    {
     "data": {
      "text/plain": [
       "StringType"
      ]
     },
     "execution_count": 36,
     "metadata": {},
     "output_type": "execute_result"
    }
   ],
   "source": [
    "df.schema['Salary'].dataType"
   ]
  },
  {
   "cell_type": "code",
   "execution_count": 37,
   "id": "d1162e75-34f4-4335-8987-34962d79b725",
   "metadata": {},
   "outputs": [
    {
     "name": "stdout",
     "output_type": "stream",
     "text": [
      "Column \"id\" is IntegerType\n",
      "Column \"Latitude\" is FloatType\n",
      "Column \"gender\" is StringType\n"
     ]
    }
   ],
   "source": [
    "#Do it with a function\n",
    "def spark_dtype(column=str, df=df):\n",
    "    return df.schema[column].dataType\n",
    "\n",
    "for i in ['id', 'Latitude', 'gender']:\n",
    "    print(f'Column \"{i}\" is {spark_dtype(i)}')"
   ]
  },
  {
   "cell_type": "markdown",
   "id": "8a3bf18a-14f4-4feb-87a5-37b380872c2b",
   "metadata": {},
   "source": [
    "<br>\n",
    "\n",
    "So first we create a new column:\n",
    "- we use `substr` method to exclude the <b>$</b> symbol\n",
    "- we `cast` the new column as float"
   ]
  },
  {
   "cell_type": "code",
   "execution_count": 38,
   "id": "f849980f-4197-435d-bce3-2ba35aa0e938",
   "metadata": {},
   "outputs": [
    {
     "name": "stdout",
     "output_type": "stream",
     "text": [
      "+---+----------+----------+------+-------------+--------------------+---------+---------+----------+----------+\n",
      "| id|first_name| last_name|gender|         City|            JobTitle|   Salary| Latitude| Longitude|new_salary|\n",
      "+---+----------+----------+------+-------------+--------------------+---------+---------+----------+----------+\n",
      "|  1|   Melinde| Shilburne|Female|    Nowa Ruda| Assistant Professor|$57438.18|50.577408| 16.496717|  57438.18|\n",
      "|  2|  Kimberly|Von Welden|Female|       Bulgan|       Programmer II|$62846.60| 48.82316| 103.52182|   62846.6|\n",
      "|  3|    Alvera|  Di Boldi|Female|         null|                null|$57576.52|39.994747|116.339775|  57576.52|\n",
      "|  4|   Shannon| O'Griffin|  Male|Divnomorskoye|Budget/Accounting...|$61489.23|44.504723| 38.130016|  61489.23|\n",
      "|  5|  Sherwood|   Macieja|  Male|    Mytishchi|            VP Sales|$63863.09|     null| 37.648994|  63863.09|\n",
      "+---+----------+----------+------+-------------+--------------------+---------+---------+----------+----------+\n",
      "only showing top 5 rows\n",
      "\n"
     ]
    }
   ],
   "source": [
    "dfx = df.withColumn('new_salary', df.Salary.substr(2,100).cast('float'))\n",
    "dfx.show(5)"
   ]
  },
  {
   "cell_type": "markdown",
   "id": "81fef56e-0ccc-46f0-bfa9-349d7ce4d237",
   "metadata": {},
   "source": [
    "<br>\n",
    "Now we can perform our calculation, for example we can calculate the `monthly_salary` based on `new_salary`:"
   ]
  },
  {
   "cell_type": "code",
   "execution_count": 39,
   "id": "a48f2a94-e57c-467c-a5b5-ab2059736ee3",
   "metadata": {},
   "outputs": [
    {
     "name": "stdout",
     "output_type": "stream",
     "text": [
      "+---+----------+----------+------+-------------+--------------------+---------+---------+----------+----------+-----------------+\n",
      "| id|first_name| last_name|gender|         City|            JobTitle|   Salary| Latitude| Longitude|new_salary|   monthly_salary|\n",
      "+---+----------+----------+------+-------------+--------------------+---------+---------+----------+----------+-----------------+\n",
      "|  1|   Melinde| Shilburne|Female|    Nowa Ruda| Assistant Professor|$57438.18|50.577408| 16.496717|  57438.18|4786.514973958333|\n",
      "|  2|  Kimberly|Von Welden|Female|       Bulgan|       Programmer II|$62846.60| 48.82316| 103.52182|   62846.6|   5237.216796875|\n",
      "|  3|    Alvera|  Di Boldi|Female|         null|                null|$57576.52|39.994747|116.339775|  57576.52|4798.043294270833|\n",
      "|  4|   Shannon| O'Griffin|  Male|Divnomorskoye|Budget/Accounting...|$61489.23|44.504723| 38.130016|  61489.23|  5124.1025390625|\n",
      "|  5|  Sherwood|   Macieja|  Male|    Mytishchi|            VP Sales|$63863.09|     null| 37.648994|  63863.09|5321.924153645833|\n",
      "+---+----------+----------+------+-------------+--------------------+---------+---------+----------+----------+-----------------+\n",
      "only showing top 5 rows\n",
      "\n"
     ]
    }
   ],
   "source": [
    "dfx = dfx.withColumn('monthly_salary', dfx.new_salary/12)\n",
    "dfx.show(5)"
   ]
  },
  {
   "cell_type": "code",
   "execution_count": 40,
   "id": "b39f5eb1-4afe-40cf-b0aa-ae497e2eb0cb",
   "metadata": {},
   "outputs": [
    {
     "name": "stdout",
     "output_type": "stream",
     "text": [
      "+---+----------+----------+------+-------------+--------------------+---------+---------+----------+----------+-----------------+------------+\n",
      "| id|first_name| last_name|gender|         City|            JobTitle|   Salary| Latitude| Longitude|new_salary|   monthly_salary|RoundedValue|\n",
      "+---+----------+----------+------+-------------+--------------------+---------+---------+----------+----------+-----------------+------------+\n",
      "|  1|   Melinde| Shilburne|Female|    Nowa Ruda| Assistant Professor|$57438.18|50.577408| 16.496717|  57438.18|4786.514973958333|     4786.51|\n",
      "|  2|  Kimberly|Von Welden|Female|       Bulgan|       Programmer II|$62846.60| 48.82316| 103.52182|   62846.6|   5237.216796875|     5237.22|\n",
      "|  3|    Alvera|  Di Boldi|Female|         null|                null|$57576.52|39.994747|116.339775|  57576.52|4798.043294270833|     4798.04|\n",
      "|  4|   Shannon| O'Griffin|  Male|Divnomorskoye|Budget/Accounting...|$61489.23|44.504723| 38.130016|  61489.23|  5124.1025390625|      5124.1|\n",
      "|  5|  Sherwood|   Macieja|  Male|    Mytishchi|            VP Sales|$63863.09|     null| 37.648994|  63863.09|5321.924153645833|     5321.92|\n",
      "+---+----------+----------+------+-------------+--------------------+---------+---------+----------+----------+-----------------+------------+\n",
      "only showing top 5 rows\n",
      "\n"
     ]
    }
   ],
   "source": [
    "# Given the too many decimal numbers we can try to round the column:\n",
    "from pyspark.sql.functions import round\n",
    "\n",
    "dfx = dfx.withColumn('RoundedValue', round(col('monthly_salary'), 2))\n",
    "dfx.show(5)"
   ]
  },
  {
   "cell_type": "markdown",
   "id": "6f4a22c7-9c13-48ff-a549-3c5e81c1bcd3",
   "metadata": {},
   "source": [
    "### Case 2. Categorical variables"
   ]
  },
  {
   "cell_type": "markdown",
   "id": "e6a4b91e-541c-46f8-97ff-a3e9ffde6cd3",
   "metadata": {},
   "source": [
    "We can create new columns based on conditions on other variables.\n",
    "\n",
    "In the case of categorical variables, we can even one-hot encode them."
   ]
  },
  {
   "cell_type": "code",
   "execution_count": 41,
   "id": "1022dd11-f2ca-45a0-8738-afa8aed96283",
   "metadata": {},
   "outputs": [
    {
     "name": "stdout",
     "output_type": "stream",
     "text": [
      "+---+----------+----------+------+-------------+--------------------+---------+---------+----------+\n",
      "| id|first_name| last_name|gender|         City|            JobTitle|   Salary| Latitude| Longitude|\n",
      "+---+----------+----------+------+-------------+--------------------+---------+---------+----------+\n",
      "|  1|   Melinde| Shilburne|Female|    Nowa Ruda| Assistant Professor|$57438.18|50.577408| 16.496717|\n",
      "|  2|  Kimberly|Von Welden|Female|       Bulgan|       Programmer II|$62846.60| 48.82316| 103.52182|\n",
      "|  3|    Alvera|  Di Boldi|Female|         null|                null|$57576.52|39.994747|116.339775|\n",
      "|  4|   Shannon| O'Griffin|  Male|Divnomorskoye|Budget/Accounting...|$61489.23|44.504723| 38.130016|\n",
      "|  5|  Sherwood|   Macieja|  Male|    Mytishchi|            VP Sales|$63863.09|     null| 37.648994|\n",
      "+---+----------+----------+------+-------------+--------------------+---------+---------+----------+\n",
      "only showing top 5 rows\n",
      "\n"
     ]
    }
   ],
   "source": [
    "df.show(5)"
   ]
  },
  {
   "cell_type": "code",
   "execution_count": 42,
   "id": "64dded60-f7d1-4ddb-8a8a-e2b696448f06",
   "metadata": {},
   "outputs": [
    {
     "name": "stdout",
     "output_type": "stream",
     "text": [
      "+---+----------+----------+------+-------------+--------------------+---------+---------+----------+-------+\n",
      "| id|first_name| last_name|gender|         City|            JobTitle|   Salary| Latitude| Longitude|is_male|\n",
      "+---+----------+----------+------+-------------+--------------------+---------+---------+----------+-------+\n",
      "|  1|   Melinde| Shilburne|Female|    Nowa Ruda| Assistant Professor|$57438.18|50.577408| 16.496717|      0|\n",
      "|  2|  Kimberly|Von Welden|Female|       Bulgan|       Programmer II|$62846.60| 48.82316| 103.52182|      0|\n",
      "|  3|    Alvera|  Di Boldi|Female|         null|                null|$57576.52|39.994747|116.339775|      0|\n",
      "|  4|   Shannon| O'Griffin|  Male|Divnomorskoye|Budget/Accounting...|$61489.23|44.504723| 38.130016|      1|\n",
      "|  5|  Sherwood|   Macieja|  Male|    Mytishchi|            VP Sales|$63863.09|     null| 37.648994|      1|\n",
      "+---+----------+----------+------+-------------+--------------------+---------+---------+----------+-------+\n",
      "only showing top 5 rows\n",
      "\n"
     ]
    }
   ],
   "source": [
    "dfz = df.withColumn('is_male', when(df.gender=='Male', 1).otherwise(0))\n",
    "dfz.show(5)"
   ]
  },
  {
   "cell_type": "code",
   "execution_count": 43,
   "id": "e87e3d26-7c1c-4eb4-9111-bc85e7cffa1c",
   "metadata": {},
   "outputs": [],
   "source": [
    "#For one_hot_encoding we need to create a more complex function"
   ]
  },
  {
   "cell_type": "code",
   "execution_count": 44,
   "id": "b027688d-3fc7-4cb5-8b1e-9c91dd64fc87",
   "metadata": {},
   "outputs": [],
   "source": [
    "from pyspark.sql.functions import collect_set\n",
    "\n",
    "def spark_onehotEncode(column_name, df=df):\n",
    "    unique_values = list(df.select(collect_set(column_name).alias('UniqueValues')).first().UniqueValues)\n",
    "    for feature in unique_values:\n",
    "        df = df.withColumn(f'is_{feature}', when(col(column_name) == feature, 1).otherwise(0))\n",
    "    return df"
   ]
  },
  {
   "cell_type": "code",
   "execution_count": 45,
   "id": "480b3613-91cf-4c29-9ca1-4badd5538d39",
   "metadata": {},
   "outputs": [
    {
     "name": "stdout",
     "output_type": "stream",
     "text": [
      "+---+----------+----------+------+-------------+--------------------+---------+---------+----------+---------+-------+\n",
      "| id|first_name| last_name|gender|         City|            JobTitle|   Salary| Latitude| Longitude|is_Female|is_Male|\n",
      "+---+----------+----------+------+-------------+--------------------+---------+---------+----------+---------+-------+\n",
      "|  1|   Melinde| Shilburne|Female|    Nowa Ruda| Assistant Professor|$57438.18|50.577408| 16.496717|        1|      0|\n",
      "|  2|  Kimberly|Von Welden|Female|       Bulgan|       Programmer II|$62846.60| 48.82316| 103.52182|        1|      0|\n",
      "|  3|    Alvera|  Di Boldi|Female|         null|                null|$57576.52|39.994747|116.339775|        1|      0|\n",
      "|  4|   Shannon| O'Griffin|  Male|Divnomorskoye|Budget/Accounting...|$61489.23|44.504723| 38.130016|        0|      1|\n",
      "|  5|  Sherwood|   Macieja|  Male|    Mytishchi|            VP Sales|$63863.09|     null| 37.648994|        0|      1|\n",
      "+---+----------+----------+------+-------------+--------------------+---------+---------+----------+---------+-------+\n",
      "only showing top 5 rows\n",
      "\n"
     ]
    }
   ],
   "source": [
    "#One-hot encoding gender\n",
    "dfn = spark_onehotEncode('gender')\n",
    "dfn.show(5)"
   ]
  },
  {
   "cell_type": "markdown",
   "id": "3002956b",
   "metadata": {},
   "source": [
    "<br>\n",
    "\n",
    "[Back to Table of Contents](#tablecontents)"
   ]
  },
  {
   "cell_type": "markdown",
   "id": "36e90bb9",
   "metadata": {},
   "source": [
    "<a id='section10'></a>"
   ]
  },
  {
   "cell_type": "markdown",
   "id": "9c378b94-1422-4dfc-813a-f6746e28cb42",
   "metadata": {},
   "source": [
    "## Group By and Aggregation"
   ]
  },
  {
   "cell_type": "code",
   "execution_count": 46,
   "id": "88ce19d2-de4b-438f-8e2b-431af1752e4e",
   "metadata": {},
   "outputs": [
    {
     "name": "stdout",
     "output_type": "stream",
     "text": [
      "+---+----------+----------+------+---------+------------+\n",
      "| id|first_name| last_name|gender|   Salary|RoundedValue|\n",
      "+---+----------+----------+------+---------+------------+\n",
      "|  1|   Melinde| Shilburne|Female|$57438.18|     4786.51|\n",
      "|  2|  Kimberly|Von Welden|Female|$62846.60|     5237.22|\n",
      "|  3|    Alvera|  Di Boldi|Female|$57576.52|     4798.04|\n",
      "|  4|   Shannon| O'Griffin|  Male|$61489.23|      5124.1|\n",
      "|  5|  Sherwood|   Macieja|  Male|$63863.09|     5321.92|\n",
      "+---+----------+----------+------+---------+------------+\n",
      "only showing top 5 rows\n",
      "\n"
     ]
    }
   ],
   "source": [
    "df1 = dfx.select('id', 'first_name', 'last_name', 'gender', 'Salary', 'RoundedValue')\n",
    "df1.show(5)"
   ]
  },
  {
   "cell_type": "code",
   "execution_count": 47,
   "id": "e62e3f72-2752-43a7-a918-2c468af03ceb",
   "metadata": {},
   "outputs": [
    {
     "name": "stdout",
     "output_type": "stream",
     "text": [
      "+------+------------------+\n",
      "|gender| sum(RoundedValue)|\n",
      "+------+------------------+\n",
      "|Female|2280376.5799999996|\n",
      "|  Male|        2343619.63|\n",
      "+------+------------------+\n",
      "\n"
     ]
    }
   ],
   "source": [
    "#Group by gender, aggregate by salary\n",
    "import pyspark.sql.functions as sqlfunc\n",
    "df1.groupBy('gender').agg(sqlfunc.sum('RoundedValue')).show()"
   ]
  },
  {
   "cell_type": "code",
   "execution_count": 48,
   "id": "b551a584-e0f1-4169-8663-d15e0b3298df",
   "metadata": {},
   "outputs": [
    {
     "name": "stdout",
     "output_type": "stream",
     "text": [
      "+------+------------------+\n",
      "|gender|     Sum of Salary|\n",
      "+------+------------------+\n",
      "|Female|2280376.5799999996|\n",
      "|  Male|        2343619.63|\n",
      "+------+------------------+\n",
      "\n"
     ]
    }
   ],
   "source": [
    "#Give an alias to the aggregating column\n",
    "df1.groupBy('gender').agg(sqlfunc.sum('RoundedValue').alias('Sum of Salary')).show()"
   ]
  },
  {
   "cell_type": "code",
   "execution_count": 49,
   "id": "09a1bb87-e634-4475-b575-4cc0e9568e78",
   "metadata": {},
   "outputs": [
    {
     "name": "stdout",
     "output_type": "stream",
     "text": [
      "+------+------------------+-----------------+-------------+\n",
      "|gender|     Sum of Salary|    Avg of Salary|Max of Salary|\n",
      "+------+------------------+-----------------+-------------+\n",
      "|Female|2280376.5799999996|4634.911747967479|      8329.02|\n",
      "|  Male|        2343619.63|4613.424468503937|      8328.58|\n",
      "+------+------------------+-----------------+-------------+\n",
      "\n"
     ]
    }
   ],
   "source": [
    "#You can achieve multiple aggregations at once:\n",
    "df1.groupBy('gender').agg(\n",
    "    sqlfunc.sum('RoundedValue').alias('Sum of Salary'),\n",
    "    sqlfunc.avg('RoundedValue').alias('Avg of Salary'),\n",
    "    sqlfunc.max('RoundedValue').alias('Max of Salary')\n",
    ").show()"
   ]
  },
  {
   "cell_type": "markdown",
   "id": "da9ee0fd",
   "metadata": {},
   "source": [
    "<br>\n",
    "\n",
    "[Back to Table of Contents](#tablecontents)"
   ]
  },
  {
   "cell_type": "markdown",
   "id": "30c04cba",
   "metadata": {},
   "source": [
    "<a id='section11'></a>"
   ]
  },
  {
   "cell_type": "markdown",
   "id": "261ec66d-0372-41d5-ac84-daf5ba26dd94",
   "metadata": {},
   "source": [
    "## Write a DataFrame to a file"
   ]
  },
  {
   "cell_type": "markdown",
   "id": "f84b2bbc-7611-455b-97fb-f1debf0f5345",
   "metadata": {},
   "source": [
    "We can save a pyspark dataframe in multiple formats, like:\n",
    "- csv\n",
    "- json\n",
    "- parquet\n",
    "- xml"
   ]
  },
  {
   "cell_type": "code",
   "execution_count": 50,
   "id": "bee766f2-a05b-4b24-9995-6bf8d8602e8f",
   "metadata": {},
   "outputs": [
    {
     "name": "stdout",
     "output_type": "stream",
     "text": [
      "+---+----------+----------+------+-------------+--------------------+---------+---------+----------+----------+-----------------+------------+\n",
      "| id|first_name| last_name|gender|         City|            JobTitle|   Salary| Latitude| Longitude|new_salary|   monthly_salary|RoundedValue|\n",
      "+---+----------+----------+------+-------------+--------------------+---------+---------+----------+----------+-----------------+------------+\n",
      "|  1|   Melinde| Shilburne|Female|    Nowa Ruda| Assistant Professor|$57438.18|50.577408| 16.496717|  57438.18|4786.514973958333|     4786.51|\n",
      "|  2|  Kimberly|Von Welden|Female|       Bulgan|       Programmer II|$62846.60| 48.82316| 103.52182|   62846.6|   5237.216796875|     5237.22|\n",
      "|  3|    Alvera|  Di Boldi|Female|         null|                null|$57576.52|39.994747|116.339775|  57576.52|4798.043294270833|     4798.04|\n",
      "|  4|   Shannon| O'Griffin|  Male|Divnomorskoye|Budget/Accounting...|$61489.23|44.504723| 38.130016|  61489.23|  5124.1025390625|      5124.1|\n",
      "|  5|  Sherwood|   Macieja|  Male|    Mytishchi|            VP Sales|$63863.09|     null| 37.648994|  63863.09|5321.924153645833|     5321.92|\n",
      "+---+----------+----------+------+-------------+--------------------+---------+---------+----------+----------+-----------------+------------+\n",
      "only showing top 5 rows\n",
      "\n"
     ]
    }
   ],
   "source": [
    "dfx.show(5)"
   ]
  },
  {
   "cell_type": "code",
   "execution_count": 51,
   "id": "18a64673-d5bb-4314-a3c7-1b97d5737c5e",
   "metadata": {},
   "outputs": [
    {
     "name": "stdout",
     "output_type": "stream",
     "text": [
      "+---+----------+----------+------+--------------------+---------+----------+----------+-----------------+---------+-------+\n",
      "| id|first_name| last_name|gender|            JobTitle| Latitude| Longitude|new_salary|   monthly_salary|is_Female|is_Male|\n",
      "+---+----------+----------+------+--------------------+---------+----------+----------+-----------------+---------+-------+\n",
      "|  1|   Melinde| Shilburne|Female| Assistant Professor|50.577408| 16.496717|  57438.18|4786.514973958333|        1|      0|\n",
      "|  2|  Kimberly|Von Welden|Female|       Programmer II| 48.82316| 103.52182|   62846.6|   5237.216796875|        1|      0|\n",
      "|  3|    Alvera|  Di Boldi|Female|                 n/a|39.994747|116.339775|  57576.52|4798.043294270833|        1|      0|\n",
      "|  4|   Shannon| O'Griffin|  Male|Budget/Accounting...|44.504723| 38.130016|  61489.23|  5124.1025390625|        0|      1|\n",
      "|  5|  Sherwood|   Macieja|  Male|            VP Sales|     null| 37.648994|  63863.09|5321.924153645833|        0|      1|\n",
      "+---+----------+----------+------+--------------------+---------+----------+----------+-----------------+---------+-------+\n",
      "only showing top 5 rows\n",
      "\n"
     ]
    }
   ],
   "source": [
    "#Create a new dataframe from few selected data\n",
    "dfz = dfx.select('id', 'first_name', 'last_name', 'gender', 'JobTitle', 'Latitude', 'Longitude', 'new_salary', 'monthly_salary')\n",
    "\n",
    "#Handle Null Values (overwriting existing column)\n",
    "dfz = dfz.withColumn(\"JobTitle\", when(dfz.JobTitle.isNull(), \"n/a\").otherwise(dfz.JobTitle))\n",
    "\n",
    "#One-Hot Encode gender\n",
    "dfz = spark_onehotEncode('gender', dfz)\n",
    "\n",
    "#Show final dataframe\n",
    "dfz.show(5)"
   ]
  },
  {
   "cell_type": "code",
   "execution_count": 52,
   "id": "668d7187-1fb7-47a7-ac34-80366dc551e3",
   "metadata": {},
   "outputs": [
    {
     "name": "stdout",
     "output_type": "stream",
     "text": [
      "File saved\n"
     ]
    }
   ],
   "source": [
    "#Save dataframe as csv file\n",
    "try:\n",
    "    dfz.write.csv('output/csv_output.csv', encoding='UTF-8')\n",
    "    print('File saved')\n",
    "except:\n",
    "    print('Cannot save. Maybe the file already exists.')"
   ]
  },
  {
   "cell_type": "code",
   "execution_count": 53,
   "id": "9eab31bd-626c-4c82-9376-9c5ae9672910",
   "metadata": {},
   "outputs": [
    {
     "name": "stdout",
     "output_type": "stream",
     "text": [
      "File saved\n"
     ]
    }
   ],
   "source": [
    "#Save dataframe as json file\n",
    "try:\n",
    "    dfz.write.json('output/json_output.json')\n",
    "    print('File saved')\n",
    "except:\n",
    "    print('Cannot save. Maybe the file already exists.')"
   ]
  },
  {
   "cell_type": "code",
   "execution_count": 54,
   "id": "b006bd97-228d-4885-adb5-e2b2f85836de",
   "metadata": {},
   "outputs": [
    {
     "name": "stderr",
     "output_type": "stream",
     "text": [
      "                                                                                \r"
     ]
    },
    {
     "name": "stdout",
     "output_type": "stream",
     "text": [
      "File saved\n"
     ]
    }
   ],
   "source": [
    "#Save dataframe as parquet file\n",
    "try:\n",
    "    dfz.write.parquet('output/parquet_output.parquet')\n",
    "    print('File saved')\n",
    "except:\n",
    "    print('Cannot save. Maybe the file already exists.')"
   ]
  },
  {
   "cell_type": "markdown",
   "id": "32a9418c-67f6-408e-a8c7-e55ab5b52956",
   "metadata": {},
   "source": [
    "<br>\n",
    "<b>Note: </b> partitioning and compression options are available for the `write` method (see documentation)."
   ]
  },
  {
   "cell_type": "markdown",
   "id": "f79559dd",
   "metadata": {},
   "source": [
    "<br>\n",
    "\n",
    "[Back to Table of Contents](#tablecontents)"
   ]
  },
  {
   "cell_type": "code",
   "execution_count": 56,
   "id": "bc777f37",
   "metadata": {},
   "outputs": [
    {
     "name": "stdout",
     "output_type": "stream",
     "text": [
      "\n",
      "     End of the Notebook :)\n"
     ]
    },
    {
     "name": "stderr",
     "output_type": "stream",
     "text": [
      "23/06/23 12:47:08 WARN HeartbeatReceiver: Removing executor driver with no recent heartbeats: 27004030 ms exceeds timeout 120000 ms\n",
      "23/06/23 12:47:08 WARN SparkContext: Killing executors is not supported by current scheduler.\n"
     ]
    }
   ],
   "source": [
    "print('\\n     End of the Notebook :)')"
   ]
  },
  {
   "cell_type": "code",
   "execution_count": null,
   "id": "2db277b3-aa35-47e3-bca8-f7ebbd18fea3",
   "metadata": {},
   "outputs": [],
   "source": []
  }
 ],
 "metadata": {
  "kernelspec": {
   "display_name": "Python 3 (ipykernel)",
   "language": "python",
   "name": "python3"
  },
  "language_info": {
   "codemirror_mode": {
    "name": "ipython",
    "version": 3
   },
   "file_extension": ".py",
   "mimetype": "text/x-python",
   "name": "python",
   "nbconvert_exporter": "python",
   "pygments_lexer": "ipython3",
   "version": "3.9.12"
  }
 },
 "nbformat": 4,
 "nbformat_minor": 5
}
